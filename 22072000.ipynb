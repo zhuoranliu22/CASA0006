{
 "cells": [
  {
   "cell_type": "code",
   "execution_count": 67,
   "id": "e5342cee-2b4f-4eb7-9c3c-7e05a0d691d3",
   "metadata": {},
   "outputs": [],
   "source": [
    "import time\n",
    "start_time = time.time()"
   ]
  },
  {
   "cell_type": "code",
   "execution_count": 68,
   "id": "6d642e79-a506-43b4-9dff-500fe453a765",
   "metadata": {},
   "outputs": [],
   "source": [
    "import pandas as pd\n",
    "pd.set_option('display.max_rows', 200)\n",
    "from matplotlib import pyplot\n",
    "import matplotlib.pyplot as plt\n",
    "import numpy as np\n",
    "# from plotly.offline import download_plotlyjs,init_notebook_mode,plot,iplot\n",
    "# init_notebook_mode(connected=True)\n",
    "# import plotly.graph_objs as go\n",
    "import sklearn\n",
    "from sklearn.model_selection import train_test_split, GridSearchCV, validation_curve\n",
    "from sklearn.metrics import mean_squared_error, r2_score\n",
    "from sklearn.preprocessing import StandardScaler, OneHotEncoder\n",
    "# from sklearn.impute import SimpleImputer\n",
    "from sklearn.compose import ColumnTransformer\n",
    "from sklearn.pipeline import Pipeline\n",
    "from sklearn.linear_model import LinearRegression\n",
    "from sklearn.tree import DecisionTreeRegressor\n",
    "from sklearn import metrics\n",
    "import seaborn as sns\n",
    "pd.options.display.float_format = '{:40,.4f}'.format\n",
    "plt.style.use('ggplot') \n",
    "%matplotlib inline"
   ]
  },
  {
   "cell_type": "code",
   "execution_count": 143,
   "id": "a411a742-9d79-4448-bec1-7c6b3fd4d675",
   "metadata": {},
   "outputs": [
    {
     "data": {
      "text/html": [
       "<div>\n",
       "<style scoped>\n",
       "    .dataframe tbody tr th:only-of-type {\n",
       "        vertical-align: middle;\n",
       "    }\n",
       "\n",
       "    .dataframe tbody tr th {\n",
       "        vertical-align: top;\n",
       "    }\n",
       "\n",
       "    .dataframe thead th {\n",
       "        text-align: right;\n",
       "    }\n",
       "</style>\n",
       "<table border=\"1\" class=\"dataframe\">\n",
       "  <thead>\n",
       "    <tr style=\"text-align: right;\">\n",
       "      <th></th>\n",
       "      <th>holiday</th>\n",
       "      <th>temp</th>\n",
       "      <th>rain_1h</th>\n",
       "      <th>snow_1h</th>\n",
       "      <th>clouds_all</th>\n",
       "      <th>weather_main</th>\n",
       "      <th>weather_description</th>\n",
       "      <th>date_time</th>\n",
       "      <th>traffic_volume</th>\n",
       "    </tr>\n",
       "  </thead>\n",
       "  <tbody>\n",
       "    <tr>\n",
       "      <th>0</th>\n",
       "      <td>None</td>\n",
       "      <td>288.2800</td>\n",
       "      <td>0.0000</td>\n",
       "      <td>0.0000</td>\n",
       "      <td>40</td>\n",
       "      <td>Clouds</td>\n",
       "      <td>scattered clouds</td>\n",
       "      <td>2012-10-02 09:00:00</td>\n",
       "      <td>5545</td>\n",
       "    </tr>\n",
       "    <tr>\n",
       "      <th>1</th>\n",
       "      <td>None</td>\n",
       "      <td>289.3600</td>\n",
       "      <td>0.0000</td>\n",
       "      <td>0.0000</td>\n",
       "      <td>75</td>\n",
       "      <td>Clouds</td>\n",
       "      <td>broken clouds</td>\n",
       "      <td>2012-10-02 10:00:00</td>\n",
       "      <td>4516</td>\n",
       "    </tr>\n",
       "    <tr>\n",
       "      <th>2</th>\n",
       "      <td>None</td>\n",
       "      <td>289.5800</td>\n",
       "      <td>0.0000</td>\n",
       "      <td>0.0000</td>\n",
       "      <td>90</td>\n",
       "      <td>Clouds</td>\n",
       "      <td>overcast clouds</td>\n",
       "      <td>2012-10-02 11:00:00</td>\n",
       "      <td>4767</td>\n",
       "    </tr>\n",
       "    <tr>\n",
       "      <th>3</th>\n",
       "      <td>None</td>\n",
       "      <td>290.1300</td>\n",
       "      <td>0.0000</td>\n",
       "      <td>0.0000</td>\n",
       "      <td>90</td>\n",
       "      <td>Clouds</td>\n",
       "      <td>overcast clouds</td>\n",
       "      <td>2012-10-02 12:00:00</td>\n",
       "      <td>5026</td>\n",
       "    </tr>\n",
       "    <tr>\n",
       "      <th>4</th>\n",
       "      <td>None</td>\n",
       "      <td>291.1400</td>\n",
       "      <td>0.0000</td>\n",
       "      <td>0.0000</td>\n",
       "      <td>75</td>\n",
       "      <td>Clouds</td>\n",
       "      <td>broken clouds</td>\n",
       "      <td>2012-10-02 13:00:00</td>\n",
       "      <td>4918</td>\n",
       "    </tr>\n",
       "  </tbody>\n",
       "</table>\n",
       "</div>"
      ],
      "text/plain": [
       "  holiday                                     temp  \\\n",
       "0    None                                 288.2800   \n",
       "1    None                                 289.3600   \n",
       "2    None                                 289.5800   \n",
       "3    None                                 290.1300   \n",
       "4    None                                 291.1400   \n",
       "\n",
       "                                   rain_1h  \\\n",
       "0                                   0.0000   \n",
       "1                                   0.0000   \n",
       "2                                   0.0000   \n",
       "3                                   0.0000   \n",
       "4                                   0.0000   \n",
       "\n",
       "                                   snow_1h  clouds_all weather_main  \\\n",
       "0                                   0.0000          40       Clouds   \n",
       "1                                   0.0000          75       Clouds   \n",
       "2                                   0.0000          90       Clouds   \n",
       "3                                   0.0000          90       Clouds   \n",
       "4                                   0.0000          75       Clouds   \n",
       "\n",
       "  weather_description            date_time  traffic_volume  \n",
       "0    scattered clouds  2012-10-02 09:00:00            5545  \n",
       "1       broken clouds  2012-10-02 10:00:00            4516  \n",
       "2     overcast clouds  2012-10-02 11:00:00            4767  \n",
       "3     overcast clouds  2012-10-02 12:00:00            5026  \n",
       "4       broken clouds  2012-10-02 13:00:00            4918  "
      ]
     },
     "execution_count": 143,
     "metadata": {},
     "output_type": "execute_result"
    }
   ],
   "source": [
    "data = pd.read_csv('https://raw.githubusercontent.com/zhuoranliu22/CASA0006/main/Metro_Interstate_Traffic_Volume.csv')\n",
    "data.head()"
   ]
  },
  {
   "cell_type": "markdown",
   "id": "ffbd16d5-7842-450b-b45d-94bdb1d90fb1",
   "metadata": {},
   "source": [
    "holiday Categorical US National holidays plus regional holiday, Minnesota State Fair\n",
    "\n",
    "temp Numeric Average temp in kelvin\n",
    "\n",
    "rain_1h Numeric Amount in mm of rain that occurred in the hour\n",
    "\n",
    "snow_1h Numeric Amount in mm of snow that occurred in the hour\n",
    "\n",
    "clouds_all Numeric Percentage of cloud cover\n",
    "\n",
    "weather_main Categorical Short textual description of the current weather\n",
    "\n",
    "weather_description Categorical Longer textual description of the current weather\n",
    "\n",
    "date_time DateTime Hour of the data collected in local CST time\n",
    "\n",
    "traffic_volume Numeric Hourly I-94 ATR 301 reported westbound traffic volume"
   ]
  },
  {
   "cell_type": "code",
   "execution_count": 70,
   "id": "a7999841-24ed-46ea-a2e3-203fcc2045e3",
   "metadata": {},
   "outputs": [
    {
     "name": "stdout",
     "output_type": "stream",
     "text": [
      "<class 'pandas.core.frame.DataFrame'>\n",
      "RangeIndex: 48204 entries, 0 to 48203\n",
      "Data columns (total 9 columns):\n",
      " #   Column               Non-Null Count  Dtype  \n",
      "---  ------               --------------  -----  \n",
      " 0   holiday              48204 non-null  object \n",
      " 1   temp                 48204 non-null  float64\n",
      " 2   rain_1h              48204 non-null  float64\n",
      " 3   snow_1h              48204 non-null  float64\n",
      " 4   clouds_all           48204 non-null  int64  \n",
      " 5   weather_main         48204 non-null  object \n",
      " 6   weather_description  48204 non-null  object \n",
      " 7   date_time            48204 non-null  object \n",
      " 8   traffic_volume       48204 non-null  int64  \n",
      "dtypes: float64(3), int64(2), object(4)\n",
      "memory usage: 3.3+ MB\n"
     ]
    }
   ],
   "source": [
    "data.info()"
   ]
  },
  {
   "cell_type": "code",
   "execution_count": 71,
   "id": "fea5e251-6608-4d73-b8fd-b06104e55a88",
   "metadata": {},
   "outputs": [
    {
     "data": {
      "text/plain": [
       "holiday                0\n",
       "temp                   0\n",
       "rain_1h                0\n",
       "snow_1h                0\n",
       "clouds_all             0\n",
       "weather_main           0\n",
       "weather_description    0\n",
       "date_time              0\n",
       "traffic_volume         0\n",
       "dtype: int64"
      ]
     },
     "execution_count": 71,
     "metadata": {},
     "output_type": "execute_result"
    }
   ],
   "source": [
    "data.isnull().sum()"
   ]
  },
  {
   "cell_type": "code",
   "execution_count": 144,
   "id": "42a248d8-b549-4f8f-a547-407005950d75",
   "metadata": {},
   "outputs": [],
   "source": [
    "data = data.drop(['weather_description','date_time'],axis = 1)"
   ]
  },
  {
   "cell_type": "code",
   "execution_count": 145,
   "id": "20369618-e98e-4845-8750-be3a7851cd53",
   "metadata": {},
   "outputs": [],
   "source": [
    "data[['holiday','weather_main']]=data[['holiday','weather_main']].astype('category')"
   ]
  },
  {
   "cell_type": "code",
   "execution_count": 75,
   "id": "e4362aae-34b3-4fa2-81eb-d1306f93f20d",
   "metadata": {},
   "outputs": [
    {
     "name": "stdout",
     "output_type": "stream",
     "text": [
      "<class 'pandas.core.frame.DataFrame'>\n",
      "RangeIndex: 48204 entries, 0 to 48203\n",
      "Data columns (total 7 columns):\n",
      " #   Column          Non-Null Count  Dtype   \n",
      "---  ------          --------------  -----   \n",
      " 0   holiday         48204 non-null  category\n",
      " 1   temp            48204 non-null  float64 \n",
      " 2   rain_1h         48204 non-null  float64 \n",
      " 3   snow_1h         48204 non-null  float64 \n",
      " 4   clouds_all      48204 non-null  int64   \n",
      " 5   weather_main    48204 non-null  category\n",
      " 6   traffic_volume  48204 non-null  int64   \n",
      "dtypes: category(2), float64(3), int64(2)\n",
      "memory usage: 1.9 MB\n"
     ]
    }
   ],
   "source": [
    "data.info()"
   ]
  },
  {
   "cell_type": "code",
   "execution_count": 34,
   "id": "4405187c-866a-441a-bd97-040816b7bbad",
   "metadata": {},
   "outputs": [],
   "source": [
    "# x1=data['temp']\n",
    "# x2=data['rain_1h']\n",
    "# x3=data['snow_1h']\n",
    "# x4=data['clouds_all']\n",
    "# y=data['traffic_volume']"
   ]
  },
  {
   "cell_type": "code",
   "execution_count": 46,
   "id": "82fbb214-6acc-4e95-bb38-89f1747d1403",
   "metadata": {},
   "outputs": [],
   "source": [
    "# plt.plot(x1, y, label='temp')\n",
    "# plt.xlabel('temperature')\n",
    "# plt.ylabel(\"traffic_volume\")"
   ]
  },
  {
   "cell_type": "code",
   "execution_count": 76,
   "id": "ad8e8359-28c6-4750-8b3c-4c22044f20dd",
   "metadata": {},
   "outputs": [
    {
     "data": {
      "text/plain": [
       "count     48204\n",
       "unique       12\n",
       "top        None\n",
       "freq      48143\n",
       "Name: holiday, dtype: object"
      ]
     },
     "execution_count": 76,
     "metadata": {},
     "output_type": "execute_result"
    }
   ],
   "source": [
    "data['holiday'].describe()"
   ]
  },
  {
   "cell_type": "code",
   "execution_count": 77,
   "id": "257e4c59-e939-4819-acc9-0acdf29b126d",
   "metadata": {},
   "outputs": [
    {
     "data": {
      "text/plain": [
       "count                                48,204.0000\n",
       "mean                                    281.2059\n",
       "std                                      13.3382\n",
       "min                                       0.0000\n",
       "25%                                     272.1600\n",
       "50%                                     282.4500\n",
       "75%                                     291.8060\n",
       "max                                     310.0700\n",
       "Name: temp, dtype: float64"
      ]
     },
     "execution_count": 77,
     "metadata": {},
     "output_type": "execute_result"
    }
   ],
   "source": [
    "data['temp'].describe()"
   ]
  },
  {
   "cell_type": "code",
   "execution_count": 78,
   "id": "53a14f55-458c-4016-b7f1-05ec1bcb57c9",
   "metadata": {},
   "outputs": [],
   "source": [
    "data = data[data['temp']!=0]"
   ]
  },
  {
   "cell_type": "code",
   "execution_count": 79,
   "id": "6b8584cd-dfff-4f09-b379-d0d0c4ebe0dc",
   "metadata": {},
   "outputs": [
    {
     "data": {
      "text/plain": [
       "count                                48,194.0000\n",
       "mean                                      0.3343\n",
       "std                                      44.7938\n",
       "min                                       0.0000\n",
       "25%                                       0.0000\n",
       "50%                                       0.0000\n",
       "75%                                       0.0000\n",
       "max                                   9,831.3000\n",
       "Name: rain_1h, dtype: float64"
      ]
     },
     "execution_count": 79,
     "metadata": {},
     "output_type": "execute_result"
    }
   ],
   "source": [
    "data['rain_1h'].describe()"
   ]
  },
  {
   "cell_type": "code",
   "execution_count": 80,
   "id": "757f150a-c304-49dd-a7c4-9ca958f5d584",
   "metadata": {},
   "outputs": [
    {
     "data": {
      "text/plain": [
       "count                                48,194.0000\n",
       "mean                                      0.0002\n",
       "std                                       0.0082\n",
       "min                                       0.0000\n",
       "25%                                       0.0000\n",
       "50%                                       0.0000\n",
       "75%                                       0.0000\n",
       "max                                       0.5100\n",
       "Name: snow_1h, dtype: float64"
      ]
     },
     "execution_count": 80,
     "metadata": {},
     "output_type": "execute_result"
    }
   ],
   "source": [
    "data['snow_1h'].describe()"
   ]
  },
  {
   "cell_type": "code",
   "execution_count": 81,
   "id": "a08d686c-5dc4-48e2-bd6c-3c7a7d5b7fd7",
   "metadata": {},
   "outputs": [
    {
     "data": {
      "text/plain": [
       "count                                48,194.0000\n",
       "mean                                     49.3725\n",
       "std                                      39.0133\n",
       "min                                       0.0000\n",
       "25%                                       1.0000\n",
       "50%                                      64.0000\n",
       "75%                                      90.0000\n",
       "max                                     100.0000\n",
       "Name: clouds_all, dtype: float64"
      ]
     },
     "execution_count": 81,
     "metadata": {},
     "output_type": "execute_result"
    }
   ],
   "source": [
    "data['clouds_all'].describe()"
   ]
  },
  {
   "cell_type": "code",
   "execution_count": 82,
   "id": "0d945cbc-0589-4cce-b243-2ab544226281",
   "metadata": {},
   "outputs": [
    {
     "data": {
      "text/plain": [
       "count      48194\n",
       "unique        11\n",
       "top       Clouds\n",
       "freq       15164\n",
       "Name: weather_main, dtype: object"
      ]
     },
     "execution_count": 82,
     "metadata": {},
     "output_type": "execute_result"
    }
   ],
   "source": [
    "data['weather_main'].describe()"
   ]
  },
  {
   "cell_type": "code",
   "execution_count": 83,
   "id": "b713dcbb-d345-4e84-8222-439f425fc9be",
   "metadata": {},
   "outputs": [
    {
     "data": {
      "text/plain": [
       "count                                48,194.0000\n",
       "mean                                  3,260.2212\n",
       "std                                   1,986.7604\n",
       "min                                       0.0000\n",
       "25%                                   1,194.0000\n",
       "50%                                   3,380.5000\n",
       "75%                                   4,933.0000\n",
       "max                                   7,280.0000\n",
       "Name: traffic_volume, dtype: float64"
      ]
     },
     "execution_count": 83,
     "metadata": {},
     "output_type": "execute_result"
    }
   ],
   "source": [
    "data['traffic_volume'].describe()"
   ]
  },
  {
   "cell_type": "code",
   "execution_count": 84,
   "id": "daf23ea8-d1f5-4736-bdfa-78ad3235db00",
   "metadata": {},
   "outputs": [
    {
     "name": "stdout",
     "output_type": "stream",
     "text": [
      "      holiday                                     temp  \\\n",
      "25186    None                                 296.6800   \n",
      "25191    None                                 295.9000   \n",
      "\n",
      "                                       rain_1h  \\\n",
      "25186                                   0.0000   \n",
      "25191                                   0.0000   \n",
      "\n",
      "                                       snow_1h  clouds_all weather_main  \\\n",
      "25186                                   0.0000          40         Rain   \n",
      "25191                                   0.0000          90         Haze   \n",
      "\n",
      "       traffic_volume  \n",
      "25186               0  \n",
      "25191               0  \n"
     ]
    }
   ],
   "source": [
    "df = data.loc[(data['traffic_volume']==0)]\n",
    "print(df)"
   ]
  },
  {
   "cell_type": "code",
   "execution_count": 85,
   "id": "adc2bb0c-f819-4587-9b11-b3c2489c60a0",
   "metadata": {},
   "outputs": [],
   "source": [
    "data = data[data['traffic_volume']!=0]"
   ]
  },
  {
   "cell_type": "code",
   "execution_count": 86,
   "id": "66e40198-d32c-4411-9131-75200d70f8e7",
   "metadata": {},
   "outputs": [
    {
     "data": {
      "text/html": [
       "<div>\n",
       "<style scoped>\n",
       "    .dataframe tbody tr th:only-of-type {\n",
       "        vertical-align: middle;\n",
       "    }\n",
       "\n",
       "    .dataframe tbody tr th {\n",
       "        vertical-align: top;\n",
       "    }\n",
       "\n",
       "    .dataframe thead th {\n",
       "        text-align: right;\n",
       "    }\n",
       "</style>\n",
       "<table border=\"1\" class=\"dataframe\">\n",
       "  <thead>\n",
       "    <tr style=\"text-align: right;\">\n",
       "      <th></th>\n",
       "      <th>count</th>\n",
       "      <th>mean</th>\n",
       "      <th>std</th>\n",
       "      <th>min</th>\n",
       "      <th>25%</th>\n",
       "      <th>50%</th>\n",
       "      <th>75%</th>\n",
       "      <th>max</th>\n",
       "    </tr>\n",
       "  </thead>\n",
       "  <tbody>\n",
       "    <tr>\n",
       "      <th>temp</th>\n",
       "      <td>48,192.0000</td>\n",
       "      <td>281.2600</td>\n",
       "      <td>12.7100</td>\n",
       "      <td>243.3900</td>\n",
       "      <td>272.1800</td>\n",
       "      <td>282.4600</td>\n",
       "      <td>291.8100</td>\n",
       "      <td>310.0700</td>\n",
       "    </tr>\n",
       "    <tr>\n",
       "      <th>rain_1h</th>\n",
       "      <td>48,192.0000</td>\n",
       "      <td>0.3300</td>\n",
       "      <td>44.7900</td>\n",
       "      <td>0.0000</td>\n",
       "      <td>0.0000</td>\n",
       "      <td>0.0000</td>\n",
       "      <td>0.0000</td>\n",
       "      <td>9,831.3000</td>\n",
       "    </tr>\n",
       "    <tr>\n",
       "      <th>snow_1h</th>\n",
       "      <td>48,192.0000</td>\n",
       "      <td>0.0000</td>\n",
       "      <td>0.0100</td>\n",
       "      <td>0.0000</td>\n",
       "      <td>0.0000</td>\n",
       "      <td>0.0000</td>\n",
       "      <td>0.0000</td>\n",
       "      <td>0.5100</td>\n",
       "    </tr>\n",
       "    <tr>\n",
       "      <th>clouds_all</th>\n",
       "      <td>48,192.0000</td>\n",
       "      <td>49.3700</td>\n",
       "      <td>39.0100</td>\n",
       "      <td>0.0000</td>\n",
       "      <td>1.0000</td>\n",
       "      <td>64.0000</td>\n",
       "      <td>90.0000</td>\n",
       "      <td>100.0000</td>\n",
       "    </tr>\n",
       "    <tr>\n",
       "      <th>traffic_volume</th>\n",
       "      <td>48,192.0000</td>\n",
       "      <td>3,260.3600</td>\n",
       "      <td>1,986.6900</td>\n",
       "      <td>1.0000</td>\n",
       "      <td>1,194.0000</td>\n",
       "      <td>3,381.0000</td>\n",
       "      <td>4,933.0000</td>\n",
       "      <td>7,280.0000</td>\n",
       "    </tr>\n",
       "  </tbody>\n",
       "</table>\n",
       "</div>"
      ],
      "text/plain": [
       "                                                  count  \\\n",
       "temp                                        48,192.0000   \n",
       "rain_1h                                     48,192.0000   \n",
       "snow_1h                                     48,192.0000   \n",
       "clouds_all                                  48,192.0000   \n",
       "traffic_volume                              48,192.0000   \n",
       "\n",
       "                                                   mean  \\\n",
       "temp                                           281.2600   \n",
       "rain_1h                                          0.3300   \n",
       "snow_1h                                          0.0000   \n",
       "clouds_all                                      49.3700   \n",
       "traffic_volume                               3,260.3600   \n",
       "\n",
       "                                                    std  \\\n",
       "temp                                            12.7100   \n",
       "rain_1h                                         44.7900   \n",
       "snow_1h                                          0.0100   \n",
       "clouds_all                                      39.0100   \n",
       "traffic_volume                               1,986.6900   \n",
       "\n",
       "                                                    min  \\\n",
       "temp                                           243.3900   \n",
       "rain_1h                                          0.0000   \n",
       "snow_1h                                          0.0000   \n",
       "clouds_all                                       0.0000   \n",
       "traffic_volume                                   1.0000   \n",
       "\n",
       "                                                    25%  \\\n",
       "temp                                           272.1800   \n",
       "rain_1h                                          0.0000   \n",
       "snow_1h                                          0.0000   \n",
       "clouds_all                                       1.0000   \n",
       "traffic_volume                               1,194.0000   \n",
       "\n",
       "                                                    50%  \\\n",
       "temp                                           282.4600   \n",
       "rain_1h                                          0.0000   \n",
       "snow_1h                                          0.0000   \n",
       "clouds_all                                      64.0000   \n",
       "traffic_volume                               3,381.0000   \n",
       "\n",
       "                                                    75%  \\\n",
       "temp                                           291.8100   \n",
       "rain_1h                                          0.0000   \n",
       "snow_1h                                          0.0000   \n",
       "clouds_all                                      90.0000   \n",
       "traffic_volume                               4,933.0000   \n",
       "\n",
       "                                                    max  \n",
       "temp                                           310.0700  \n",
       "rain_1h                                      9,831.3000  \n",
       "snow_1h                                          0.5100  \n",
       "clouds_all                                     100.0000  \n",
       "traffic_volume                               7,280.0000  "
      ]
     },
     "execution_count": 86,
     "metadata": {},
     "output_type": "execute_result"
    }
   ],
   "source": [
    "summary=data.describe().round(2)  # generate summary statistics, and round everything to 2 decimal degrees\n",
    "summary=summary.T #.T transposes the table (rows become columns and vice versa)\n",
    "summary"
   ]
  },
  {
   "cell_type": "code",
   "execution_count": 141,
   "id": "cc205d76-e145-4b31-88f5-ae41a898ce18",
   "metadata": {},
   "outputs": [
    {
     "name": "stdout",
     "output_type": "stream",
     "text": [
      "Dropped 0 observations\n",
      "Dropped 0 observations\n",
      "Dropped 48192 observations\n",
      "Dropped 0 observations\n",
      "Dropped 0 observations\n"
     ]
    }
   ],
   "source": [
    "# def filter_outliers(var):\n",
    "#     q1 = var.quantile(0.25) # calculate the first quartile\n",
    "#     q3 = var.quantile(0.75) # calculate the third quartile\n",
    "#     iqr = q3 - q1 # calculate the interquartile range\n",
    "#     low = q1 - 3*iqr # calculate the lower bound\n",
    "#     high = q3 + 3*iqr # calculate the upper bound\n",
    "#     filtered = data[(var > low) & (var < high)] # filter  the values that are within the bounds\n",
    "#     dropped_observations= len(var)-len(filtered) # calculate the number of observations that were dropped\n",
    "\n",
    "#     print('Dropped {} observations'.format(dropped_observations))\n",
    "#     return  filtered\n",
    "\n",
    "# data=filter_outliers(data['traffic_volume']) # filter outliers from realhrwage\n",
    "# data=filter_outliers(data['temp'])\n",
    "# data=filter_outliers(data['rain_1h'])\n",
    "# data=filter_outliers(data['snow_1h'])\n",
    "# data=filter_outliers(data['clouds_all'])"
   ]
  },
  {
   "cell_type": "markdown",
   "id": "0b12d93e-eab9-4398-956b-e0d345a4cbc7",
   "metadata": {},
   "source": [
    "The summary statistics table provides us with a good overview of some of the variables we're interested in. However, you'll notice that it omits many of the other variables in our dataset: the categorical ones. This is because calculating the mean, standard deviation, etc. of something like the \"occupation\" column doesn't really make sense. For that, we turn to visualization."
   ]
  },
  {
   "cell_type": "code",
   "execution_count": 88,
   "id": "530506ee-0a7e-422e-9f88-c02245faa3dd",
   "metadata": {},
   "outputs": [
    {
     "data": {
      "text/plain": [
       "['None', 'Columbus Day', 'Veterans Day', 'Thanksgiving Day', 'Christmas Day', ..., 'Memorial Day', 'Independence Day', 'State Fair', 'Labor Day', 'Martin Luther King Jr Day']\n",
       "Length: 12\n",
       "Categories (12, object): ['Christmas Day', 'Columbus Day', 'Independence Day', 'Labor Day', ..., 'State Fair', 'Thanksgiving Day', 'Veterans Day', 'Washingtons Birthday']"
      ]
     },
     "execution_count": 88,
     "metadata": {},
     "output_type": "execute_result"
    }
   ],
   "source": [
    "data['holiday'].unique()"
   ]
  },
  {
   "cell_type": "code",
   "execution_count": 91,
   "id": "f839451b-c883-485a-ac20-acb15a52406e",
   "metadata": {},
   "outputs": [
    {
     "data": {
      "text/plain": [
       "['Clouds', 'Clear', 'Rain', 'Drizzle', 'Mist', ..., 'Fog', 'Thunderstorm', 'Snow', 'Squall', 'Smoke']\n",
       "Length: 11\n",
       "Categories (11, object): ['Clear', 'Clouds', 'Drizzle', 'Fog', ..., 'Smoke', 'Snow', 'Squall', 'Thunderstorm']"
      ]
     },
     "execution_count": 91,
     "metadata": {},
     "output_type": "execute_result"
    }
   ],
   "source": [
    "data['weather_main'].unique()"
   ]
  },
  {
   "cell_type": "code",
   "execution_count": 95,
   "id": "85cd0b44-8440-4607-9c2a-de2b168ef6dd",
   "metadata": {},
   "outputs": [
    {
     "data": {
      "image/png": "[encoded data removed]",
      "text/plain": [
       "<Figure size 432x288 with 1 Axes>"
      ]
     },
     "metadata": {
      "needs_background": "light"
     },
     "output_type": "display_data"
    }
   ],
   "source": [
    "sns.countplot(data=data, x='holiday') # plot the union variable\n",
    "plt.title('Holiday') # add a title\n",
    "plt.xlabel('') # remove the x axis label\n",
    "plt.show() # show the plot     not very informative"
   ]
  },
  {
   "cell_type": "code",
   "execution_count": 97,
   "id": "ba08a539-2968-43dd-9fb4-ecf053d80d6b",
   "metadata": {},
   "outputs": [
    {
     "name": "stdout",
     "output_type": "stream",
     "text": [
      "None                         48131\n",
      "Labor Day                        7\n",
      "Christmas Day                    6\n",
      "Martin Luther King Jr Day        6\n",
      "New Years Day                    6\n",
      "Thanksgiving Day                 6\n",
      "Columbus Day                     5\n",
      "Independence Day                 5\n",
      "Memorial Day                     5\n",
      "State Fair                       5\n",
      "Veterans Day                     5\n",
      "Washingtons Birthday             5\n",
      "Name: holiday, dtype: int64\n"
     ]
    }
   ],
   "source": [
    "print(data['holiday'].value_counts())"
   ]
  },
  {
   "cell_type": "code",
   "execution_count": 94,
   "id": "57aec9a0-5790-41c5-b255-66cc2f806297",
   "metadata": {},
   "outputs": [
    {
     "data": {
      "image/png": "[encoded data removed]",
      "text/plain": [
       "<Figure size 432x288 with 1 Axes>"
      ]
     },
     "metadata": {
      "needs_background": "light"
     },
     "output_type": "display_data"
    }
   ],
   "source": [
    "sns.countplot(data=data, x='weather_main') # plot the union variable\n",
    "plt.title('Weather') # add a title\n",
    "plt.xlabel('') # remove the x axis label\n",
    "plt.show() # show the plot"
   ]
  },
  {
   "cell_type": "code",
   "execution_count": 98,
   "id": "193971fd-a22b-4cf4-9576-a583e28c8031",
   "metadata": {},
   "outputs": [
    {
     "name": "stdout",
     "output_type": "stream",
     "text": [
      "Clouds          15164\n",
      "Clear           13381\n",
      "Mist             5950\n",
      "Rain             5671\n",
      "Snow             2876\n",
      "Drizzle          1821\n",
      "Haze             1359\n",
      "Thunderstorm     1034\n",
      "Fog               912\n",
      "Smoke              20\n",
      "Squall              4\n",
      "Name: weather_main, dtype: int64\n"
     ]
    }
   ],
   "source": [
    "print(data['weather_main'].value_counts())"
   ]
  },
  {
   "cell_type": "code",
   "execution_count": 153,
   "id": "ccf16f98-39eb-4542-a913-951f9ddbaad4",
   "metadata": {},
   "outputs": [],
   "source": [
    "data_numeric = pd.get_dummies(data)"
   ]
  },
  {
   "cell_type": "code",
   "execution_count": 154,
   "id": "d83ff809-1d4d-4b37-8612-c373701bf7e3",
   "metadata": {},
   "outputs": [
    {
     "name": "stdout",
     "output_type": "stream",
     "text": [
      "<class 'pandas.core.frame.DataFrame'>\n",
      "RangeIndex: 48204 entries, 0 to 48203\n",
      "Data columns (total 28 columns):\n",
      " #   Column                             Non-Null Count  Dtype  \n",
      "---  ------                             --------------  -----  \n",
      " 0   temp                               48204 non-null  float64\n",
      " 1   rain_1h                            48204 non-null  float64\n",
      " 2   snow_1h                            48204 non-null  float64\n",
      " 3   clouds_all                         48204 non-null  int64  \n",
      " 4   traffic_volume                     48204 non-null  int64  \n",
      " 5   holiday_Christmas Day              48204 non-null  uint8  \n",
      " 6   holiday_Columbus Day               48204 non-null  uint8  \n",
      " 7   holiday_Independence Day           48204 non-null  uint8  \n",
      " 8   holiday_Labor Day                  48204 non-null  uint8  \n",
      " 9   holiday_Martin Luther King Jr Day  48204 non-null  uint8  \n",
      " 10  holiday_Memorial Day               48204 non-null  uint8  \n",
      " 11  holiday_New Years Day              48204 non-null  uint8  \n",
      " 12  holiday_None                       48204 non-null  uint8  \n",
      " 13  holiday_State Fair                 48204 non-null  uint8  \n",
      " 14  holiday_Thanksgiving Day           48204 non-null  uint8  \n",
      " 15  holiday_Veterans Day               48204 non-null  uint8  \n",
      " 16  holiday_Washingtons Birthday       48204 non-null  uint8  \n",
      " 17  weather_main_Clear                 48204 non-null  uint8  \n",
      " 18  weather_main_Clouds                48204 non-null  uint8  \n",
      " 19  weather_main_Drizzle               48204 non-null  uint8  \n",
      " 20  weather_main_Fog                   48204 non-null  uint8  \n",
      " 21  weather_main_Haze                  48204 non-null  uint8  \n",
      " 22  weather_main_Mist                  48204 non-null  uint8  \n",
      " 23  weather_main_Rain                  48204 non-null  uint8  \n",
      " 24  weather_main_Smoke                 48204 non-null  uint8  \n",
      " 25  weather_main_Snow                  48204 non-null  uint8  \n",
      " 26  weather_main_Squall                48204 non-null  uint8  \n",
      " 27  weather_main_Thunderstorm          48204 non-null  uint8  \n",
      "dtypes: float64(3), int64(2), uint8(23)\n",
      "memory usage: 2.9 MB\n"
     ]
    }
   ],
   "source": [
    "data_numeric.info()"
   ]
  },
  {
   "cell_type": "code",
   "execution_count": 155,
   "id": "1d2e1707-ce65-41d7-9254-8bea2197dc6a",
   "metadata": {},
   "outputs": [],
   "source": [
    "data_final = data_numeric.drop(['weather_main_Clear','holiday_None'],axis = 1)"
   ]
  },
  {
   "cell_type": "code",
   "execution_count": 156,
   "id": "fa584d7a-ad21-4603-bda2-88fe0766d9d9",
   "metadata": {},
   "outputs": [
    {
     "name": "stdout",
     "output_type": "stream",
     "text": [
      "<class 'pandas.core.frame.DataFrame'>\n",
      "RangeIndex: 48204 entries, 0 to 48203\n",
      "Data columns (total 26 columns):\n",
      " #   Column                             Non-Null Count  Dtype  \n",
      "---  ------                             --------------  -----  \n",
      " 0   temp                               48204 non-null  float64\n",
      " 1   rain_1h                            48204 non-null  float64\n",
      " 2   snow_1h                            48204 non-null  float64\n",
      " 3   clouds_all                         48204 non-null  int64  \n",
      " 4   traffic_volume                     48204 non-null  int64  \n",
      " 5   holiday_Christmas Day              48204 non-null  uint8  \n",
      " 6   holiday_Columbus Day               48204 non-null  uint8  \n",
      " 7   holiday_Independence Day           48204 non-null  uint8  \n",
      " 8   holiday_Labor Day                  48204 non-null  uint8  \n",
      " 9   holiday_Martin Luther King Jr Day  48204 non-null  uint8  \n",
      " 10  holiday_Memorial Day               48204 non-null  uint8  \n",
      " 11  holiday_New Years Day              48204 non-null  uint8  \n",
      " 12  holiday_State Fair                 48204 non-null  uint8  \n",
      " 13  holiday_Thanksgiving Day           48204 non-null  uint8  \n",
      " 14  holiday_Veterans Day               48204 non-null  uint8  \n",
      " 15  holiday_Washingtons Birthday       48204 non-null  uint8  \n",
      " 16  weather_main_Clouds                48204 non-null  uint8  \n",
      " 17  weather_main_Drizzle               48204 non-null  uint8  \n",
      " 18  weather_main_Fog                   48204 non-null  uint8  \n",
      " 19  weather_main_Haze                  48204 non-null  uint8  \n",
      " 20  weather_main_Mist                  48204 non-null  uint8  \n",
      " 21  weather_main_Rain                  48204 non-null  uint8  \n",
      " 22  weather_main_Smoke                 48204 non-null  uint8  \n",
      " 23  weather_main_Snow                  48204 non-null  uint8  \n",
      " 24  weather_main_Squall                48204 non-null  uint8  \n",
      " 25  weather_main_Thunderstorm          48204 non-null  uint8  \n",
      "dtypes: float64(3), int64(2), uint8(21)\n",
      "memory usage: 2.8 MB\n"
     ]
    }
   ],
   "source": [
    "data_final.info()"
   ]
  },
  {
   "cell_type": "markdown",
   "id": "922e0cfc-43b0-403f-809e-fdc4f2369157",
   "metadata": {},
   "source": [
    "# Methodology"
   ]
  },
  {
   "cell_type": "code",
   "execution_count": 157,
   "id": "3b6a4b08-de19-47fe-a0d5-d9bce0fcf597",
   "metadata": {},
   "outputs": [
    {
     "name": "stdout",
     "output_type": "stream",
     "text": [
      "<class 'pandas.core.frame.DataFrame'>\n",
      "RangeIndex: 48204 entries, 0 to 48203\n",
      "Data columns (total 25 columns):\n",
      " #   Column                             Non-Null Count  Dtype  \n",
      "---  ------                             --------------  -----  \n",
      " 0   temp                               48204 non-null  float64\n",
      " 1   snow_1h                            48204 non-null  float64\n",
      " 2   clouds_all                         48204 non-null  int64  \n",
      " 3   traffic_volume                     48204 non-null  int64  \n",
      " 4   holiday_Christmas Day              48204 non-null  uint8  \n",
      " 5   holiday_Columbus Day               48204 non-null  uint8  \n",
      " 6   holiday_Independence Day           48204 non-null  uint8  \n",
      " 7   holiday_Labor Day                  48204 non-null  uint8  \n",
      " 8   holiday_Martin Luther King Jr Day  48204 non-null  uint8  \n",
      " 9   holiday_Memorial Day               48204 non-null  uint8  \n",
      " 10  holiday_New Years Day              48204 non-null  uint8  \n",
      " 11  holiday_State Fair                 48204 non-null  uint8  \n",
      " 12  holiday_Thanksgiving Day           48204 non-null  uint8  \n",
      " 13  holiday_Veterans Day               48204 non-null  uint8  \n",
      " 14  holiday_Washingtons Birthday       48204 non-null  uint8  \n",
      " 15  weather_main_Clouds                48204 non-null  uint8  \n",
      " 16  weather_main_Drizzle               48204 non-null  uint8  \n",
      " 17  weather_main_Fog                   48204 non-null  uint8  \n",
      " 18  weather_main_Haze                  48204 non-null  uint8  \n",
      " 19  weather_main_Mist                  48204 non-null  uint8  \n",
      " 20  weather_main_Rain                  48204 non-null  uint8  \n",
      " 21  weather_main_Smoke                 48204 non-null  uint8  \n",
      " 22  weather_main_Snow                  48204 non-null  uint8  \n",
      " 23  weather_main_Squall                48204 non-null  uint8  \n",
      " 24  weather_main_Thunderstorm          48204 non-null  uint8  \n",
      "dtypes: float64(2), int64(2), uint8(21)\n",
      "memory usage: 2.4 MB\n"
     ]
    }
   ],
   "source": [
    "data_t = data_final.drop(['rain_1h'],axis = 1)\n",
    "data_t.info()"
   ]
  },
  {
   "cell_type": "code",
   "execution_count": 158,
   "id": "a158c1f2-b1e5-49b4-89ef-7f0d860a1236",
   "metadata": {},
   "outputs": [],
   "source": [
    "random_state_split = 100\n",
    "train_x, test_x, train_y, test_y = train_test_split(data_t.drop(['traffic_volume'], axis = 1), data_t.traffic_volume, random_state=random_state_split)"
   ]
  },
  {
   "cell_type": "code",
   "execution_count": 159,
   "id": "f12b50a9-8e19-4f5b-ac0c-54109333f797",
   "metadata": {},
   "outputs": [
    {
     "name": "stdout",
     "output_type": "stream",
     "text": [
      "(36153, 24)\n",
      "(36153,)\n",
      "(12051, 24)\n",
      "(12051,)\n",
      "True\n",
      "True\n"
     ]
    }
   ],
   "source": [
    "print(train_x.shape)\n",
    "print(train_y.shape)\n",
    "print(test_x.shape)\n",
    "print(test_y.shape)\n",
    "\n",
    "# check the index of train_x and train_y - they should be identical. The index indicates which rows from the original data.\n",
    "\n",
    "print(train_x.index.identical(train_y.index))\n",
    "print(test_x.index.identical(test_y.index))"
   ]
  },
  {
   "cell_type": "code",
   "execution_count": 160,
   "id": "f829c02f-3d60-462f-9e5e-38b1dc9bb679",
   "metadata": {},
   "outputs": [
    {
     "name": "stdout",
     "output_type": "stream",
     "text": [
      "Tree depth: 59\n"
     ]
    }
   ],
   "source": [
    "cart_default = DecisionTreeRegressor(random_state=0)\n",
    "cart_default.fit(train_x, train_y)\n",
    "# print the tree depth\n",
    "print(\"Tree depth: {}\".format(cart_default.get_depth()))"
   ]
  },
  {
   "cell_type": "code",
   "execution_count": 161,
   "id": "1cf08272-f53f-4413-879b-62400517ca74",
   "metadata": {},
   "outputs": [
    {
     "name": "stdout",
     "output_type": "stream",
     "text": [
      "The best parameter value is: \n",
      "{'max_depth': 10, 'min_samples_split': 1400}\n",
      "The best score is: \n",
      "0.07266196171866161\n"
     ]
    }
   ],
   "source": [
    "# values of max_depth and min_samples_split\n",
    "hyperparameters = {'max_depth':[10,20,50,69,90], 'min_samples_split':[1000,1200,1400,1600,1800]}\n",
    "\n",
    "randomState_dt = 10000\n",
    "dt = DecisionTreeRegressor(random_state=randomState_dt)\n",
    "\n",
    "# cv=5 by default, which means 5-fold cross-validation\n",
    "clf = GridSearchCV(dt, hyperparameters)\n",
    "\n",
    "clf.fit(train_x, train_y)\n",
    "\n",
    "# we can query the best parameter value and its accuracy score\n",
    "print (\"The best parameter value is: \")\n",
    "print (clf.best_params_)\n",
    "print (\"The best score is: \")\n",
    "print (clf.best_score_)"
   ]
  },
  {
   "cell_type": "code",
   "execution_count": 162,
   "id": "5eb823d5-646f-4f40-8588-865b1b3e6c40",
   "metadata": {},
   "outputs": [
    {
     "data": {
      "text/html": [
       "<style>#sk-container-id-4 {color: black;background-color: white;}#sk-container-id-4 pre{padding: 0;}#sk-container-id-4 div.sk-toggleable {background-color: white;}#sk-container-id-4 label.sk-toggleable__label {cursor: pointer;display: block;width: 100%;margin-bottom: 0;padding: 0.3em;box-sizing: border-box;text-align: center;}#sk-container-id-4 label.sk-toggleable__label-arrow:before {content: \"▸\";float: left;margin-right: 0.25em;color: #696969;}#sk-container-id-4 label.sk-toggleable__label-arrow:hover:before {color: black;}#sk-container-id-4 div.sk-estimator:hover label.sk-toggleable__label-arrow:before {color: black;}#sk-container-id-4 div.sk-toggleable__content {max-height: 0;max-width: 0;overflow: hidden;text-align: left;background-color: #f0f8ff;}#sk-container-id-4 div.sk-toggleable__content pre {margin: 0.2em;color: black;border-radius: 0.25em;background-color: #f0f8ff;}#sk-container-id-4 input.sk-toggleable__control:checked~div.sk-toggleable__content {max-height: 200px;max-width: 100%;overflow: auto;}#sk-container-id-4 input.sk-toggleable__control:checked~label.sk-toggleable__label-arrow:before {content: \"▾\";}#sk-container-id-4 div.sk-estimator input.sk-toggleable__control:checked~label.sk-toggleable__label {background-color: #d4ebff;}#sk-container-id-4 div.sk-label input.sk-toggleable__control:checked~label.sk-toggleable__label {background-color: #d4ebff;}#sk-container-id-4 input.sk-hidden--visually {border: 0;clip: rect(1px 1px 1px 1px);clip: rect(1px, 1px, 1px, 1px);height: 1px;margin: -1px;overflow: hidden;padding: 0;position: absolute;width: 1px;}#sk-container-id-4 div.sk-estimator {font-family: monospace;background-color: #f0f8ff;border: 1px dotted black;border-radius: 0.25em;box-sizing: border-box;margin-bottom: 0.5em;}#sk-container-id-4 div.sk-estimator:hover {background-color: #d4ebff;}#sk-container-id-4 div.sk-parallel-item::after {content: \"\";width: 100%;border-bottom: 1px solid gray;flex-grow: 1;}#sk-container-id-4 div.sk-label:hover label.sk-toggleable__label {background-color: #d4ebff;}#sk-container-id-4 div.sk-serial::before {content: \"\";position: absolute;border-left: 1px solid gray;box-sizing: border-box;top: 0;bottom: 0;left: 50%;z-index: 0;}#sk-container-id-4 div.sk-serial {display: flex;flex-direction: column;align-items: center;background-color: white;padding-right: 0.2em;padding-left: 0.2em;position: relative;}#sk-container-id-4 div.sk-item {position: relative;z-index: 1;}#sk-container-id-4 div.sk-parallel {display: flex;align-items: stretch;justify-content: center;background-color: white;position: relative;}#sk-container-id-4 div.sk-item::before, #sk-container-id-4 div.sk-parallel-item::before {content: \"\";position: absolute;border-left: 1px solid gray;box-sizing: border-box;top: 0;bottom: 0;left: 50%;z-index: -1;}#sk-container-id-4 div.sk-parallel-item {display: flex;flex-direction: column;z-index: 1;position: relative;background-color: white;}#sk-container-id-4 div.sk-parallel-item:first-child::after {align-self: flex-end;width: 50%;}#sk-container-id-4 div.sk-parallel-item:last-child::after {align-self: flex-start;width: 50%;}#sk-container-id-4 div.sk-parallel-item:only-child::after {width: 0;}#sk-container-id-4 div.sk-dashed-wrapped {border: 1px dashed gray;margin: 0 0.4em 0.5em 0.4em;box-sizing: border-box;padding-bottom: 0.4em;background-color: white;}#sk-container-id-4 div.sk-label label {font-family: monospace;font-weight: bold;display: inline-block;line-height: 1.2em;}#sk-container-id-4 div.sk-label-container {text-align: center;}#sk-container-id-4 div.sk-container {/* jupyter's `normalize.less` sets `[hidden] { display: none; }` but bootstrap.min.css set `[hidden] { display: none !important; }` so we also need the `!important` here to be able to override the default hidden behavior on the sphinx rendered scikit-learn.org. See: https://github.com/scikit-learn/scikit-learn/issues/21755 */display: inline-block !important;position: relative;}#sk-container-id-4 div.sk-text-repr-fallback {display: none;}</style><div id=\"sk-container-id-4\" class=\"sk-top-container\"><div class=\"sk-text-repr-fallback\"><pre>DecisionTreeRegressor(max_depth=10, min_samples_split=1400, random_state=10000)</pre><b>In a Jupyter environment, please rerun this cell to show the HTML representation or trust the notebook. <br />On GitHub, the HTML representation is unable to render, please try loading this page with nbviewer.org.</b></div><div class=\"sk-container\" hidden><div class=\"sk-item\"><div class=\"sk-estimator sk-toggleable\"><input class=\"sk-toggleable__control sk-hidden--visually\" id=\"sk-estimator-id-4\" type=\"checkbox\" checked><label for=\"sk-estimator-id-4\" class=\"sk-toggleable__label sk-toggleable__label-arrow\">DecisionTreeRegressor</label><div class=\"sk-toggleable__content\"><pre>DecisionTreeRegressor(max_depth=10, min_samples_split=1400, random_state=10000)</pre></div></div></div></div></div>"
      ],
      "text/plain": [
       "DecisionTreeRegressor(max_depth=10, min_samples_split=1400, random_state=10000)"
      ]
     },
     "execution_count": 162,
     "metadata": {},
     "output_type": "execute_result"
    }
   ],
   "source": [
    "dt_final = DecisionTreeRegressor(max_depth=clf.best_params_['max_depth'], min_samples_split=clf.best_params_['min_samples_split'], random_state=randomState_dt)\n",
    "dt_final.fit(train_x, train_y)"
   ]
  },
  {
   "cell_type": "code",
   "execution_count": 163,
   "id": "ff18a7c3-f909-4373-971c-8083b1c85a4c",
   "metadata": {},
   "outputs": [
    {
     "name": "stdout",
     "output_type": "stream",
     "text": [
      "R2 on the training data:\n",
      "0.08173333419154094\n",
      "R2 on the testing data:\n",
      "0.07573435920268834\n"
     ]
    }
   ],
   "source": [
    "print(\"R2 on the training data:\")\n",
    "print(dt_final.score(X=train_x, y=train_y))\n",
    "print(\"R2 on the testing data:\")\n",
    "print(dt_final.score(X=test_x, y=test_y))"
   ]
  }
 ],
 "metadata": {
  "kernelspec": {
   "display_name": "Python 3 (ipykernel)",
   "language": "python",
   "name": "python3"
  },
  "language_info": {
   "codemirror_mode": {
    "name": "ipython",
    "version": 3
   },
   "file_extension": ".py",
   "mimetype": "text/x-python",
   "name": "python",
   "nbconvert_exporter": "python",
   "pygments_lexer": "ipython3",
   "version": "3.10.5"
  }
 },
 "nbformat": 4,
 "nbformat_minor": 5
}
