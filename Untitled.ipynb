{
 "cells": [
  {
   "cell_type": "code",
   "execution_count": 3,
   "id": "6645ddc0-7804-44a3-8f36-261f4ccb8708",
   "metadata": {},
   "outputs": [],
   "source": [
    "d = pd.read_csv('https://raw.githubusercontent.com/zhuoranliu22/CASA0006/main/adult.csv',header = None)"
   ]
  },
  {
   "cell_type": "code",
   "execution_count": 2,
   "id": "0912fb7b-d1bc-451d-b163-a424613b1ab6",
   "metadata": {},
   "outputs": [
    {
     "name": "stderr",
     "output_type": "stream",
     "text": [
      "<jemalloc>: MADV_DONTNEED does not work (memset will be used instead)\n",
      "<jemalloc>: (This is the expected behaviour if you are running under QEMU)\n"
     ]
    }
   ],
   "source": [
    "import pandas as pd"
   ]
  },
  {
   "cell_type": "code",
   "execution_count": 4,
   "id": "b67e78a0-6620-4235-8499-2fb293968379",
   "metadata": {},
   "outputs": [
    {
     "data": {
      "text/plain": [
       "0   1                  2       3              4   5                    6                   7               8       9        10  11  12  13              14    \n",
       "25   Private           195994   1st-4th       2    Never-married        Priv-house-serv     Not-in-family   White   Female  0   0   40   Guatemala       <=50K    3\n",
       "23   Private           240137   5th-6th       3    Never-married        Handlers-cleaners   Not-in-family   White   Male    0   0   55   Mexico          <=50K    2\n",
       "38   Private           207202   HS-grad       9    Married-civ-spouse   Machine-op-inspct   Husband         White   Male    0   0   48   United-States   >50K     2\n",
       "30   Private           144593   HS-grad       9    Never-married        Other-service       Not-in-family   Black   Male    0   0   40   ?               <=50K    2\n",
       "49   Self-emp-not-inc  43479    Some-college  10   Married-civ-spouse   Craft-repair        Husband         White   Male    0   0   40   United-States   <=50K    2\n",
       "                                                                                                                                                                 ..\n",
       "31   Private           128567   HS-grad       9    Married-civ-spouse   Craft-repair        Husband         White   Male    0   0   40   United-States   <=50K    1\n",
       "                       128493   HS-grad       9    Divorced             Other-service       Not-in-family   White   Female  0   0   25   United-States   <=50K    1\n",
       "                       128220   7th-8th       4    Widowed              Adm-clerical        Not-in-family   White   Female  0   0   35   United-States   <=50K    1\n",
       "                       127610   Bachelors     13   Married-civ-spouse   Prof-specialty      Wife            White   Female  0   0   40   United-States   >50K     1\n",
       "90   Self-emp-not-inc  282095   Some-college  10   Married-civ-spouse   Farming-fishing     Husband         White   Male    0   0   40   United-States   <=50K    1\n",
       "Length: 32537, dtype: int64"
      ]
     },
     "execution_count": 4,
     "metadata": {},
     "output_type": "execute_result"
    }
   ],
   "source": [
    "d.value_counts()"
   ]
  }
 ],
 "metadata": {
  "kernelspec": {
   "display_name": "Python 3 (ipykernel)",
   "language": "python",
   "name": "python3"
  },
  "language_info": {
   "codemirror_mode": {
    "name": "ipython",
    "version": 3
   },
   "file_extension": ".py",
   "mimetype": "text/x-python",
   "name": "python",
   "nbconvert_exporter": "python",
   "pygments_lexer": "ipython3",
   "version": "3.10.5"
  }
 },
 "nbformat": 4,
 "nbformat_minor": 5
}
