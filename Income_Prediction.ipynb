{
 "cells": [
  {
   "cell_type": "markdown",
   "id": "1104c0a4-6e8f-4b35-acbe-b50188be5202",
   "metadata": {},
   "source": [
    "## Is it possible to use machine learning to predict an individual's income level based on demographic and employment information?"
   ]
  },
  {
   "cell_type": "markdown",
   "id": "57280936-8e92-482e-8f15-c7d97c34bee8",
   "metadata": {},
   "source": [
    "# Introduction"
   ]
  },
  {
   "cell_type": "markdown",
   "id": "a4f9201c-d80b-4bce-ae32-def325d57a62",
   "metadata": {},
   "source": [
    "Understanding and predicting an individual's income level is essential for policymakers, researchers, and various industries. It is valuable in multiple domains that are related to business, such as advertising and hiring (Matz et el., 2019). In marketing, details about an individual's financial circumstances can be utilized to aim at consumers with appropriate products or services. In recruiting, knowledge of an individual's present income can serve as a reference point to assist companies in negotiating. Apart from that, accurate income level predictions can inform targeted interventions, enabling more effective resource allocation and support for those who need it most, to help resolve income inequality issue. The emergence of machine learning as a powerful predictive tool has opened up new possibilities for addressing data-driven problems like income prediction. This research aims to investigate the potential of machine learning in predicting an individual's income level based on demographic and employment information."
   ]
  },
  {
   "cell_type": "markdown",
   "id": "978b0433-8f15-474c-b1e5-36138c8b3cea",
   "metadata": {},
   "source": [
    "## Literature review"
   ]
  },
  {
   "cell_type": "markdown",
   "id": "c24b9a1b-db5a-4fbe-b624-3bc2b388e792",
   "metadata": {},
   "source": [
    "Traditionally, classical statistical methods, such as linear regression and logistic regression, can be used in income prediction. For example, Yarnold(2019) used linear regression and novometric models respectively to model the relationship between education income, with both models displaying strong effects. Recent studies have demonstrated various more advanced machine learning methods and information that can be used in income prediction. Even modelling based on the digital footprints people leave on Facebook is a viable means of income prediction(Matz et el., 2019). In this study, they found that income is predictable using Facebook likes and Status Updates with machine learning techniques. A similar research buildt a model for income prediction by using users' temporal orientation of Tweets (Hasanuzzaman et al., 2017). These studies all show the possibility of using machine learning models to predict an individual's income with their information."
   ]
  },
  {
   "cell_type": "markdown",
   "id": "33b7f509-2834-408c-9fb8-29c53b1143a7",
   "metadata": {},
   "source": [
    "## Research question"
   ]
  },
  {
   "cell_type": "markdown",
   "id": "edd0d576-a1e9-40eb-913b-96b49e250bb2",
   "metadata": {},
   "source": [
    "The research question of this paper is \"Is it possible to use machine learning to predict an individual's income level based on demographic and employment information?\". "
   ]
  },
  {
   "cell_type": "markdown",
   "id": "0988e67b-2f32-41ec-9e8f-1694ffd789a5",
   "metadata": {},
   "source": [
    "## Presentation of data"
   ]
  },
  {
   "cell_type": "markdown",
   "id": "f166bea1-c3b3-47d5-b52f-6306937ccbde",
   "metadata": {},
   "source": [
    "Firstly, we import packages needed for data visualization and analysis."
   ]
  },
  {
   "cell_type": "code",
   "execution_count": 1,
   "id": "e5342cee-2b4f-4eb7-9c3c-7e05a0d691d3",
   "metadata": {},
   "outputs": [],
   "source": [
    "import time\n",
    "start_time = time.time()"
   ]
  },
  {
   "cell_type": "code",
   "execution_count": 2,
   "id": "6d642e79-a506-43b4-9dff-500fe453a765",
   "metadata": {},
   "outputs": [
    {
     "name": "stderr",
     "output_type": "stream",
     "text": [
      "<jemalloc>: MADV_DONTNEED does not work (memset will be used instead)\n",
      "<jemalloc>: (This is the expected behaviour if you are running under QEMU)\n"
     ]
    }
   ],
   "source": [
    "import pandas as pd\n",
    "pd.set_option('display.max_rows', 200)\n",
    "from matplotlib import pyplot\n",
    "import matplotlib.pyplot as plt\n",
    "import numpy as np\n",
    "import sklearn\n",
    "from sklearn.model_selection import train_test_split, GridSearchCV, validation_curve\n",
    "from sklearn.metrics import mean_squared_error, r2_score\n",
    "from sklearn.preprocessing import StandardScaler, LabelEncoder\n",
    "from sklearn.compose import ColumnTransformer\n",
    "from sklearn.tree import DecisionTreeClassifier\n",
    "from sklearn.ensemble import RandomForestClassifier\n",
    "from sklearn import metrics\n",
    "from sklearn import tree\n",
    "from sklearn.feature_extraction import DictVectorizer\n",
    "from sklearn.linear_model import LogisticRegression\n",
    "from sklearn.metrics import confusion_matrix\n",
    "import seaborn as sns\n",
    "pd.options.display.float_format = '{:40,.4f}'.format\n",
    "plt.style.use('ggplot') \n",
    "%matplotlib inline"
   ]
  },
  {
   "cell_type": "markdown",
   "id": "93e44406-9d8b-4ed0-927b-ec3075e1a2e0",
   "metadata": {},
   "source": [
    "In this research, an income dataset from Kohavi and Ron (1996) is used.This dataset includes 15 variables, including age, work class, fnlwgt, education, edu_num, marital status, occupation, relationship, race, sex, capital gain, capital loss, working hours per week, native country, and income. Income is selected as the dependent variable to analyze the impact of other variables on it. The following is the specific explanation of each variable:"
   ]
  },
  {
   "cell_type": "markdown",
   "id": "13045cec-9b5e-4a2e-b165-99477170dcad",
   "metadata": {},
   "source": [
    "Income: anual income, classified as >50K and <=50K.\n",
    "\n",
    "age: age of each individual, continuous variable.\n",
    "\n",
    "workclass: classifications of each individual's work, including: Private, Self-emp-not-inc, Self-emp-inc, Federal-gov, Local-gov, State-gov, Without-pay, Never-worked.\n",
    "\n",
    "fnlwgt: it is a weight assigned by the Census Bureau, representing the number of people the census believes share the same attributes, continuous variable.\n",
    "\n",
    "education: classifications of education of each individual, including: Bachelors, Some-college, 11th, HS-grad, Prof-school, Assoc-acdm, Assoc-voc, 9th, 7th-8th, 12th, Masters, 1st-4th, 10th, Doctorate, 5th-6th, Preschool.\n",
    "\n",
    "education-num: the number of years of education, continuous variable.\n",
    "\n",
    "marital-status: classified as: Married-civ-spouse, Divorced, Never-married, Separated, Widowed, Married-spouse-absent, Married-AF-spouse. \n",
    "\n",
    "occupation: classified as: Tech-support, Craft-repair, Other-service, Sales, Exec-managerial, Prof-specialty, Handlers-cleaners, Machine-op-inspct, Adm-clerical, Farming-fishing, Transport-moving, Priv-house-serv, Protective-serv, Armed-Forces.\n",
    "\n",
    "relationship: classified as: Wife, Own-child, Husband, Not-in-family, Other-relative, Unmarried.\n",
    "\n",
    "race: classified as: White, Asian-Pac-Islander, Amer-Indian-Eskimo, Other, Black.\n",
    "\n",
    "sex: Female, Male.\n",
    "\n",
    "capital-gain: continuous variable.\n",
    "\n",
    "capital-loss: continuous variable.\n",
    "\n",
    "hours-per-week: working hours per week, continuous variable.\n",
    "\n",
    "native-country: United-States, Cambodia, England, Puerto-Rico, Canada, Germany, Outlying-US(Guam-USVI-etc), India, Japan, Greece, South, China, Cuba, Iran, Honduras, Philippines, Italy, Poland, Jamaica, Vietnam, Mexico, Portugal, Ireland, France, Dominican-Republic, Laos, Ecuador, Taiwan, Haiti, Columbia, Hungary, Guatemala, Nicaragua, Scotland, Thailand, Yugoslavia, El-Salvador, Trinadad&Tobago, Peru, Hong, Holand-Netherlands."
   ]
  },
  {
   "cell_type": "markdown",
   "id": "876ce9b3-7338-4abb-8835-78aef36ea08f",
   "metadata": {},
   "source": [
    "Read the dataset remotely from the [github repository](https://github.com/zhuoranliu22/CASA0006), this repository stores both the dataset and the code:"
   ]
  },
  {
   "cell_type": "code",
   "execution_count": 3,
   "id": "a411a742-9d79-4448-bec1-7c6b3fd4d675",
   "metadata": {},
   "outputs": [
    {
     "data": {
      "text/html": [
       "<div>\n",
       "<style scoped>\n",
       "    .dataframe tbody tr th:only-of-type {\n",
       "        vertical-align: middle;\n",
       "    }\n",
       "\n",
       "    .dataframe tbody tr th {\n",
       "        vertical-align: top;\n",
       "    }\n",
       "\n",
       "    .dataframe thead th {\n",
       "        text-align: right;\n",
       "    }\n",
       "</style>\n",
       "<table border=\"1\" class=\"dataframe\">\n",
       "  <thead>\n",
       "    <tr style=\"text-align: right;\">\n",
       "      <th></th>\n",
       "      <th>0</th>\n",
       "      <th>1</th>\n",
       "      <th>2</th>\n",
       "      <th>3</th>\n",
       "      <th>4</th>\n",
       "      <th>5</th>\n",
       "      <th>6</th>\n",
       "      <th>7</th>\n",
       "      <th>8</th>\n",
       "      <th>9</th>\n",
       "      <th>10</th>\n",
       "      <th>11</th>\n",
       "      <th>12</th>\n",
       "      <th>13</th>\n",
       "      <th>14</th>\n",
       "    </tr>\n",
       "  </thead>\n",
       "  <tbody>\n",
       "    <tr>\n",
       "      <th>0</th>\n",
       "      <td>39</td>\n",
       "      <td>State-gov</td>\n",
       "      <td>77516</td>\n",
       "      <td>Bachelors</td>\n",
       "      <td>13</td>\n",
       "      <td>Never-married</td>\n",
       "      <td>Adm-clerical</td>\n",
       "      <td>Not-in-family</td>\n",
       "      <td>White</td>\n",
       "      <td>Male</td>\n",
       "      <td>2174</td>\n",
       "      <td>0</td>\n",
       "      <td>40</td>\n",
       "      <td>United-States</td>\n",
       "      <td>&lt;=50K</td>\n",
       "    </tr>\n",
       "    <tr>\n",
       "      <th>1</th>\n",
       "      <td>50</td>\n",
       "      <td>Self-emp-not-inc</td>\n",
       "      <td>83311</td>\n",
       "      <td>Bachelors</td>\n",
       "      <td>13</td>\n",
       "      <td>Married-civ-spouse</td>\n",
       "      <td>Exec-managerial</td>\n",
       "      <td>Husband</td>\n",
       "      <td>White</td>\n",
       "      <td>Male</td>\n",
       "      <td>0</td>\n",
       "      <td>0</td>\n",
       "      <td>13</td>\n",
       "      <td>United-States</td>\n",
       "      <td>&lt;=50K</td>\n",
       "    </tr>\n",
       "    <tr>\n",
       "      <th>2</th>\n",
       "      <td>38</td>\n",
       "      <td>Private</td>\n",
       "      <td>215646</td>\n",
       "      <td>HS-grad</td>\n",
       "      <td>9</td>\n",
       "      <td>Divorced</td>\n",
       "      <td>Handlers-cleaners</td>\n",
       "      <td>Not-in-family</td>\n",
       "      <td>White</td>\n",
       "      <td>Male</td>\n",
       "      <td>0</td>\n",
       "      <td>0</td>\n",
       "      <td>40</td>\n",
       "      <td>United-States</td>\n",
       "      <td>&lt;=50K</td>\n",
       "    </tr>\n",
       "    <tr>\n",
       "      <th>3</th>\n",
       "      <td>53</td>\n",
       "      <td>Private</td>\n",
       "      <td>234721</td>\n",
       "      <td>11th</td>\n",
       "      <td>7</td>\n",
       "      <td>Married-civ-spouse</td>\n",
       "      <td>Handlers-cleaners</td>\n",
       "      <td>Husband</td>\n",
       "      <td>Black</td>\n",
       "      <td>Male</td>\n",
       "      <td>0</td>\n",
       "      <td>0</td>\n",
       "      <td>40</td>\n",
       "      <td>United-States</td>\n",
       "      <td>&lt;=50K</td>\n",
       "    </tr>\n",
       "    <tr>\n",
       "      <th>4</th>\n",
       "      <td>28</td>\n",
       "      <td>Private</td>\n",
       "      <td>338409</td>\n",
       "      <td>Bachelors</td>\n",
       "      <td>13</td>\n",
       "      <td>Married-civ-spouse</td>\n",
       "      <td>Prof-specialty</td>\n",
       "      <td>Wife</td>\n",
       "      <td>Black</td>\n",
       "      <td>Female</td>\n",
       "      <td>0</td>\n",
       "      <td>0</td>\n",
       "      <td>40</td>\n",
       "      <td>Cuba</td>\n",
       "      <td>&lt;=50K</td>\n",
       "    </tr>\n",
       "  </tbody>\n",
       "</table>\n",
       "</div>"
      ],
      "text/plain": [
       "   0                  1       2           3   4                    5   \\\n",
       "0  39          State-gov   77516   Bachelors  13        Never-married   \n",
       "1  50   Self-emp-not-inc   83311   Bachelors  13   Married-civ-spouse   \n",
       "2  38            Private  215646     HS-grad   9             Divorced   \n",
       "3  53            Private  234721        11th   7   Married-civ-spouse   \n",
       "4  28            Private  338409   Bachelors  13   Married-civ-spouse   \n",
       "\n",
       "                   6               7       8        9     10  11  12  \\\n",
       "0        Adm-clerical   Not-in-family   White     Male  2174   0  40   \n",
       "1     Exec-managerial         Husband   White     Male     0   0  13   \n",
       "2   Handlers-cleaners   Not-in-family   White     Male     0   0  40   \n",
       "3   Handlers-cleaners         Husband   Black     Male     0   0  40   \n",
       "4      Prof-specialty            Wife   Black   Female     0   0  40   \n",
       "\n",
       "               13      14  \n",
       "0   United-States   <=50K  \n",
       "1   United-States   <=50K  \n",
       "2   United-States   <=50K  \n",
       "3   United-States   <=50K  \n",
       "4            Cuba   <=50K  "
      ]
     },
     "execution_count": 3,
     "metadata": {},
     "output_type": "execute_result"
    }
   ],
   "source": [
    "data_org = pd.read_csv('https://raw.githubusercontent.com/zhuoranliu22/CASA0006/main/adult.csv',header = None)\n",
    "data_org.head()"
   ]
  },
  {
   "cell_type": "markdown",
   "id": "127e1cde-8c1a-4f1a-80eb-466e0ed1957b",
   "metadata": {},
   "source": [
    "The dataset does not contain headers, so we manually add these:"
   ]
  },
  {
   "cell_type": "code",
   "execution_count": 4,
   "id": "c5877a66-e68b-45a0-b91c-bac38500deea",
   "metadata": {
    "jupyter": {
     "source_hidden": true
    },
    "tags": []
   },
   "outputs": [
    {
     "data": {
      "text/html": [
       "<div>\n",
       "<style scoped>\n",
       "    .dataframe tbody tr th:only-of-type {\n",
       "        vertical-align: middle;\n",
       "    }\n",
       "\n",
       "    .dataframe tbody tr th {\n",
       "        vertical-align: top;\n",
       "    }\n",
       "\n",
       "    .dataframe thead th {\n",
       "        text-align: right;\n",
       "    }\n",
       "</style>\n",
       "<table border=\"1\" class=\"dataframe\">\n",
       "  <thead>\n",
       "    <tr style=\"text-align: right;\">\n",
       "      <th></th>\n",
       "      <th>age</th>\n",
       "      <th>workclass</th>\n",
       "      <th>fnlwgt</th>\n",
       "      <th>education</th>\n",
       "      <th>edu_num</th>\n",
       "      <th>marital</th>\n",
       "      <th>occupation</th>\n",
       "      <th>relationship</th>\n",
       "      <th>race</th>\n",
       "      <th>sex</th>\n",
       "      <th>capital_gain</th>\n",
       "      <th>capital_loss</th>\n",
       "      <th>hours_per_week</th>\n",
       "      <th>country</th>\n",
       "      <th>income</th>\n",
       "    </tr>\n",
       "  </thead>\n",
       "  <tbody>\n",
       "    <tr>\n",
       "      <th>0</th>\n",
       "      <td>39</td>\n",
       "      <td>State-gov</td>\n",
       "      <td>77516</td>\n",
       "      <td>Bachelors</td>\n",
       "      <td>13</td>\n",
       "      <td>Never-married</td>\n",
       "      <td>Adm-clerical</td>\n",
       "      <td>Not-in-family</td>\n",
       "      <td>White</td>\n",
       "      <td>Male</td>\n",
       "      <td>2174</td>\n",
       "      <td>0</td>\n",
       "      <td>40</td>\n",
       "      <td>United-States</td>\n",
       "      <td>&lt;=50K</td>\n",
       "    </tr>\n",
       "    <tr>\n",
       "      <th>1</th>\n",
       "      <td>50</td>\n",
       "      <td>Self-emp-not-inc</td>\n",
       "      <td>83311</td>\n",
       "      <td>Bachelors</td>\n",
       "      <td>13</td>\n",
       "      <td>Married-civ-spouse</td>\n",
       "      <td>Exec-managerial</td>\n",
       "      <td>Husband</td>\n",
       "      <td>White</td>\n",
       "      <td>Male</td>\n",
       "      <td>0</td>\n",
       "      <td>0</td>\n",
       "      <td>13</td>\n",
       "      <td>United-States</td>\n",
       "      <td>&lt;=50K</td>\n",
       "    </tr>\n",
       "    <tr>\n",
       "      <th>2</th>\n",
       "      <td>38</td>\n",
       "      <td>Private</td>\n",
       "      <td>215646</td>\n",
       "      <td>HS-grad</td>\n",
       "      <td>9</td>\n",
       "      <td>Divorced</td>\n",
       "      <td>Handlers-cleaners</td>\n",
       "      <td>Not-in-family</td>\n",
       "      <td>White</td>\n",
       "      <td>Male</td>\n",
       "      <td>0</td>\n",
       "      <td>0</td>\n",
       "      <td>40</td>\n",
       "      <td>United-States</td>\n",
       "      <td>&lt;=50K</td>\n",
       "    </tr>\n",
       "    <tr>\n",
       "      <th>3</th>\n",
       "      <td>53</td>\n",
       "      <td>Private</td>\n",
       "      <td>234721</td>\n",
       "      <td>11th</td>\n",
       "      <td>7</td>\n",
       "      <td>Married-civ-spouse</td>\n",
       "      <td>Handlers-cleaners</td>\n",
       "      <td>Husband</td>\n",
       "      <td>Black</td>\n",
       "      <td>Male</td>\n",
       "      <td>0</td>\n",
       "      <td>0</td>\n",
       "      <td>40</td>\n",
       "      <td>United-States</td>\n",
       "      <td>&lt;=50K</td>\n",
       "    </tr>\n",
       "    <tr>\n",
       "      <th>4</th>\n",
       "      <td>28</td>\n",
       "      <td>Private</td>\n",
       "      <td>338409</td>\n",
       "      <td>Bachelors</td>\n",
       "      <td>13</td>\n",
       "      <td>Married-civ-spouse</td>\n",
       "      <td>Prof-specialty</td>\n",
       "      <td>Wife</td>\n",
       "      <td>Black</td>\n",
       "      <td>Female</td>\n",
       "      <td>0</td>\n",
       "      <td>0</td>\n",
       "      <td>40</td>\n",
       "      <td>Cuba</td>\n",
       "      <td>&lt;=50K</td>\n",
       "    </tr>\n",
       "  </tbody>\n",
       "</table>\n",
       "</div>"
      ],
      "text/plain": [
       "   age          workclass  fnlwgt   education  edu_num              marital  \\\n",
       "0   39          State-gov   77516   Bachelors       13        Never-married   \n",
       "1   50   Self-emp-not-inc   83311   Bachelors       13   Married-civ-spouse   \n",
       "2   38            Private  215646     HS-grad        9             Divorced   \n",
       "3   53            Private  234721        11th        7   Married-civ-spouse   \n",
       "4   28            Private  338409   Bachelors       13   Married-civ-spouse   \n",
       "\n",
       "           occupation    relationship    race      sex  capital_gain  \\\n",
       "0        Adm-clerical   Not-in-family   White     Male          2174   \n",
       "1     Exec-managerial         Husband   White     Male             0   \n",
       "2   Handlers-cleaners   Not-in-family   White     Male             0   \n",
       "3   Handlers-cleaners         Husband   Black     Male             0   \n",
       "4      Prof-specialty            Wife   Black   Female             0   \n",
       "\n",
       "   capital_loss  hours_per_week         country  income  \n",
       "0             0              40   United-States   <=50K  \n",
       "1             0              13   United-States   <=50K  \n",
       "2             0              40   United-States   <=50K  \n",
       "3             0              40   United-States   <=50K  \n",
       "4             0              40            Cuba   <=50K  "
      ]
     },
     "execution_count": 4,
     "metadata": {},
     "output_type": "execute_result"
    }
   ],
   "source": [
    "data_org.columns = ['age','workclass','fnlwgt','education','edu_num','marital','occupation','relationship','race','sex','capital_gain',\n",
    "                'capital_loss','hours_per_week','country','income']\n",
    "data_org.head()\n"
   ]
  },
  {
   "cell_type": "markdown",
   "id": "e4c41f09-2043-4758-8c73-a217ff13a910",
   "metadata": {},
   "source": [
    "Using .info() function to check data types and non-null counts:"
   ]
  },
  {
   "cell_type": "code",
   "execution_count": 5,
   "id": "a7999841-24ed-46ea-a2e3-203fcc2045e3",
   "metadata": {},
   "outputs": [
    {
     "name": "stdout",
     "output_type": "stream",
     "text": [
      "<class 'pandas.core.frame.DataFrame'>\n",
      "RangeIndex: 32561 entries, 0 to 32560\n",
      "Data columns (total 15 columns):\n",
      " #   Column          Non-Null Count  Dtype \n",
      "---  ------          --------------  ----- \n",
      " 0   age             32561 non-null  int64 \n",
      " 1   workclass       32561 non-null  object\n",
      " 2   fnlwgt          32561 non-null  int64 \n",
      " 3   education       32561 non-null  object\n",
      " 4   edu_num         32561 non-null  int64 \n",
      " 5   marital         32561 non-null  object\n",
      " 6   occupation      32561 non-null  object\n",
      " 7   relationship    32561 non-null  object\n",
      " 8   race            32561 non-null  object\n",
      " 9   sex             32561 non-null  object\n",
      " 10  capital_gain    32561 non-null  int64 \n",
      " 11  capital_loss    32561 non-null  int64 \n",
      " 12  hours_per_week  32561 non-null  int64 \n",
      " 13  country         32561 non-null  object\n",
      " 14  income          32561 non-null  object\n",
      "dtypes: int64(6), object(9)\n",
      "memory usage: 3.7+ MB\n"
     ]
    }
   ],
   "source": [
    "data_org.info()"
   ]
  },
  {
   "cell_type": "markdown",
   "id": "d72af5a5-e8eb-450a-ba47-a434ed577a53",
   "metadata": {},
   "source": [
    "Using .isnull().sum() function to check for empty columns, the result shows there are none:"
   ]
  },
  {
   "cell_type": "code",
   "execution_count": 6,
   "id": "fea5e251-6608-4d73-b8fd-b06104e55a88",
   "metadata": {},
   "outputs": [
    {
     "data": {
      "text/plain": [
       "age               0\n",
       "workclass         0\n",
       "fnlwgt            0\n",
       "education         0\n",
       "edu_num           0\n",
       "marital           0\n",
       "occupation        0\n",
       "relationship      0\n",
       "race              0\n",
       "sex               0\n",
       "capital_gain      0\n",
       "capital_loss      0\n",
       "hours_per_week    0\n",
       "country           0\n",
       "income            0\n",
       "dtype: int64"
      ]
     },
     "execution_count": 6,
     "metadata": {},
     "output_type": "execute_result"
    }
   ],
   "source": [
    "data_org.isnull().sum()"
   ]
  },
  {
   "cell_type": "markdown",
   "id": "e9017ee0-22b9-47d0-9871-81522e2b44b0",
   "metadata": {},
   "source": [
    "Checking if there are any unusual values in the dataset:"
   ]
  },
  {
   "cell_type": "code",
   "execution_count": 7,
   "id": "45f47833-a97c-4820-8e18-1ef8146f02d9",
   "metadata": {},
   "outputs": [
    {
     "data": {
      "text/plain": [
       "age  workclass          fnlwgt  education      edu_num  marital              occupation          relationship    race    sex      capital_gain  capital_loss  hours_per_week  country         income\n",
       "25    Private           195994   1st-4th       2         Never-married        Priv-house-serv     Not-in-family   White   Female  0             0             40               Guatemala       <=50K    3\n",
       "23    Private           240137   5th-6th       3         Never-married        Handlers-cleaners   Not-in-family   White   Male    0             0             55               Mexico          <=50K    2\n",
       "38    Private           207202   HS-grad       9         Married-civ-spouse   Machine-op-inspct   Husband         White   Male    0             0             48               United-States   >50K     2\n",
       "30    Private           144593   HS-grad       9         Never-married        Other-service       Not-in-family   Black   Male    0             0             40               ?               <=50K    2\n",
       "49    Self-emp-not-inc  43479    Some-college  10        Married-civ-spouse   Craft-repair        Husband         White   Male    0             0             40               United-States   <=50K    2\n",
       "                                                                                                                                                                                                       ..\n",
       "31    Private           128567   HS-grad       9         Married-civ-spouse   Craft-repair        Husband         White   Male    0             0             40               United-States   <=50K    1\n",
       "                        128493   HS-grad       9         Divorced             Other-service       Not-in-family   White   Female  0             0             25               United-States   <=50K    1\n",
       "                        128220   7th-8th       4         Widowed              Adm-clerical        Not-in-family   White   Female  0             0             35               United-States   <=50K    1\n",
       "                        127610   Bachelors     13        Married-civ-spouse   Prof-specialty      Wife            White   Female  0             0             40               United-States   >50K     1\n",
       "90    Self-emp-not-inc  282095   Some-college  10        Married-civ-spouse   Farming-fishing     Husband         White   Male    0             0             40               United-States   <=50K    1\n",
       "Length: 32537, dtype: int64"
      ]
     },
     "execution_count": 7,
     "metadata": {},
     "output_type": "execute_result"
    }
   ],
   "source": [
    "data_org.value_counts()"
   ]
  },
  {
   "cell_type": "markdown",
   "id": "a3f410a3-bb66-4665-b6fd-dc0e3ff535e6",
   "metadata": {},
   "source": [
    "There are values as '?' in the dataset, so we replace them with na values and use .dropna() to drop them:"
   ]
  },
  {
   "cell_type": "code",
   "execution_count": 8,
   "id": "8115f33b-d4b8-43ce-a9c9-50e6a40f6874",
   "metadata": {},
   "outputs": [
    {
     "name": "stdout",
     "output_type": "stream",
     "text": [
      "<class 'pandas.core.frame.DataFrame'>\n",
      "Int64Index: 30162 entries, 0 to 32560\n",
      "Data columns (total 15 columns):\n",
      " #   Column          Non-Null Count  Dtype \n",
      "---  ------          --------------  ----- \n",
      " 0   age             30162 non-null  int64 \n",
      " 1   workclass       30162 non-null  object\n",
      " 2   fnlwgt          30162 non-null  int64 \n",
      " 3   education       30162 non-null  object\n",
      " 4   edu_num         30162 non-null  int64 \n",
      " 5   marital         30162 non-null  object\n",
      " 6   occupation      30162 non-null  object\n",
      " 7   relationship    30162 non-null  object\n",
      " 8   race            30162 non-null  object\n",
      " 9   sex             30162 non-null  object\n",
      " 10  capital_gain    30162 non-null  int64 \n",
      " 11  capital_loss    30162 non-null  int64 \n",
      " 12  hours_per_week  30162 non-null  int64 \n",
      " 13  country         30162 non-null  object\n",
      " 14  income          30162 non-null  object\n",
      "dtypes: int64(6), object(9)\n",
      "memory usage: 3.7+ MB\n"
     ]
    }
   ],
   "source": [
    "data_org.replace(' ?', np.nan,inplace=True)\n",
    "data_org.dropna(inplace=True)\n",
    "data_org.info()"
   ]
  },
  {
   "cell_type": "markdown",
   "id": "3e8197ef-c172-46ac-a254-6b90504c5b15",
   "metadata": {},
   "source": [
    "The data treats Taiwan as an independent country by mistake, so we replace them:"
   ]
  },
  {
   "cell_type": "code",
   "execution_count": 9,
   "id": "46067b54-0aaf-46bd-90b5-b2f99a9e152b",
   "metadata": {},
   "outputs": [],
   "source": [
    "data_org['country'] = data_org['country'].str.replace('Taiwan','China')"
   ]
  },
  {
   "cell_type": "markdown",
   "id": "7024dbdb-6897-46b0-a9c0-e3dcb3d322bb",
   "metadata": {},
   "source": [
    "Using .duplicated().value_counts() to check if there are any duplicated values:"
   ]
  },
  {
   "cell_type": "code",
   "execution_count": 10,
   "id": "447e64f9-3990-409a-af1f-74d519e01052",
   "metadata": {},
   "outputs": [
    {
     "data": {
      "text/plain": [
       "False    30139\n",
       "True        23\n",
       "dtype: int64"
      ]
     },
     "execution_count": 10,
     "metadata": {},
     "output_type": "execute_result"
    }
   ],
   "source": [
    "data_org.duplicated().value_counts()\n",
    "#so there are duplicated values"
   ]
  },
  {
   "cell_type": "markdown",
   "id": "8a362688-cada-4052-a0ea-1bf1a4b3bfbe",
   "metadata": {},
   "source": [
    "Deleting the duplicated values:"
   ]
  },
  {
   "cell_type": "code",
   "execution_count": 11,
   "id": "3dcc4c2a-6c77-4424-b6e9-21b654e0b164",
   "metadata": {},
   "outputs": [],
   "source": [
    "data_org = data_org[~data_org.duplicated()]"
   ]
  },
  {
   "cell_type": "code",
   "execution_count": 12,
   "id": "aa408c34-93f2-43e0-abb3-6077070774f3",
   "metadata": {},
   "outputs": [
    {
     "name": "stdout",
     "output_type": "stream",
     "text": [
      "<class 'pandas.core.frame.DataFrame'>\n",
      "Int64Index: 30139 entries, 0 to 32560\n",
      "Data columns (total 15 columns):\n",
      " #   Column          Non-Null Count  Dtype \n",
      "---  ------          --------------  ----- \n",
      " 0   age             30139 non-null  int64 \n",
      " 1   workclass       30139 non-null  object\n",
      " 2   fnlwgt          30139 non-null  int64 \n",
      " 3   education       30139 non-null  object\n",
      " 4   edu_num         30139 non-null  int64 \n",
      " 5   marital         30139 non-null  object\n",
      " 6   occupation      30139 non-null  object\n",
      " 7   relationship    30139 non-null  object\n",
      " 8   race            30139 non-null  object\n",
      " 9   sex             30139 non-null  object\n",
      " 10  capital_gain    30139 non-null  int64 \n",
      " 11  capital_loss    30139 non-null  int64 \n",
      " 12  hours_per_week  30139 non-null  int64 \n",
      " 13  country         30139 non-null  object\n",
      " 14  income          30139 non-null  object\n",
      "dtypes: int64(6), object(9)\n",
      "memory usage: 3.7+ MB\n"
     ]
    }
   ],
   "source": [
    "data_org.info()"
   ]
  },
  {
   "cell_type": "markdown",
   "id": "c9b0d434-57fc-48d9-b6ac-8859febb2666",
   "metadata": {},
   "source": [
    "Using label encoder to transfer object variables into numeric values for later analysis:"
   ]
  },
  {
   "cell_type": "code",
   "execution_count": 13,
   "id": "5ce9ccbd-b101-4d44-ba44-942306d07d59",
   "metadata": {},
   "outputs": [
    {
     "name": "stdout",
     "output_type": "stream",
     "text": [
      "<class 'pandas.core.frame.DataFrame'>\n",
      "Int64Index: 30139 entries, 0 to 32560\n",
      "Data columns (total 15 columns):\n",
      " #   Column          Non-Null Count  Dtype\n",
      "---  ------          --------------  -----\n",
      " 0   age             30139 non-null  int64\n",
      " 1   workclass       30139 non-null  int64\n",
      " 2   fnlwgt          30139 non-null  int64\n",
      " 3   education       30139 non-null  int64\n",
      " 4   edu_num         30139 non-null  int64\n",
      " 5   marital         30139 non-null  int64\n",
      " 6   occupation      30139 non-null  int64\n",
      " 7   relationship    30139 non-null  int64\n",
      " 8   race            30139 non-null  int64\n",
      " 9   sex             30139 non-null  int64\n",
      " 10  capital_gain    30139 non-null  int64\n",
      " 11  capital_loss    30139 non-null  int64\n",
      " 12  hours_per_week  30139 non-null  int64\n",
      " 13  country         30139 non-null  int64\n",
      " 14  income          30139 non-null  int64\n",
      "dtypes: int64(15)\n",
      "memory usage: 3.7 MB\n"
     ]
    }
   ],
   "source": [
    "data = data_org.copy()\n",
    "le = LabelEncoder()\n",
    "cols = ['workclass','education','marital','occupation','relationship','race','sex','country','income']\n",
    "for col in cols:\n",
    "    data[col] = le.fit_transform(data[col].values)\n",
    "data.info()"
   ]
  },
  {
   "cell_type": "markdown",
   "id": "8a2af5c3-7d01-4c77-b88e-ce657b1d16f9",
   "metadata": {},
   "source": [
    "The followings are the visualizations of the object variables, so that we know roughly the proportion of each class within the variable data:"
   ]
  },
  {
   "cell_type": "code",
   "execution_count": 14,
   "id": "85cd0b44-8440-4607-9c2a-de2b168ef6dd",
   "metadata": {},
   "outputs": [
    {
     "data": {
      "image/png": "[encoded data removed]",
      "text/plain": [
       "<Figure size 432x288 with 1 Axes>"
      ]
     },
     "metadata": {
      "needs_background": "light"
     },
     "output_type": "display_data"
    }
   ],
   "source": [
    "sns.countplot(data=data, x='workclass') # plot the union variable\n",
    "plt.title('workclass')\n",
    "plt.xlabel('') \n",
    "plt.xticks(ticks=[0,1,2,3,4,5,6,7],labels=['Private', 'Self-emp-not-inc', 'Self-emp-inc', 'Federal-gov', 'Local-gov', 'State-gov', 'Without-pay', 'Never-worked'],rotation=45)\n",
    "plt.show() "
   ]
  },
  {
   "cell_type": "code",
   "execution_count": 15,
   "id": "0dc2e132-134a-486e-8aff-708b8f6a92b4",
   "metadata": {},
   "outputs": [
    {
     "data": {
      "image/png": "[encoded data removed]",
      "text/plain": [
       "<Figure size 432x288 with 1 Axes>"
      ]
     },
     "metadata": {
      "needs_background": "light"
     },
     "output_type": "display_data"
    }
   ],
   "source": [
    "sns.countplot(data=data, x='education') # plot the union variable\n",
    "plt.title('education')\n",
    "plt.xlabel('') \n",
    "plt.xticks(ticks=[0,1,2,3,4,5,6,7,8,9,10,11,12,13,14,15],labels=['Bachelors', 'Some-college', '11th', 'HS-grad', 'Prof-school', 'Assoc-acdm',\n",
    "                                           'Assoc-voc', '9th', '7th-8th', '12th', 'Masters', '1st-4th', '10th', 'Doctorate', '5th-6th', \n",
    "                                           'Preschool'],rotation=45)\n",
    "plt.show() "
   ]
  },
  {
   "cell_type": "code",
   "execution_count": 16,
   "id": "69451286-e5fd-44e7-936b-66bb786fa9f9",
   "metadata": {},
   "outputs": [
    {
     "data": {
      "image/png": "[encoded data removed]",
      "text/plain": [
       "<Figure size 432x288 with 1 Axes>"
      ]
     },
     "metadata": {
      "needs_background": "light"
     },
     "output_type": "display_data"
    }
   ],
   "source": [
    "sns.countplot(data=data, x='marital') # plot the union variable\n",
    "plt.title('marital status')\n",
    "plt.xlabel('') \n",
    "plt.xticks(ticks=[0,1,2,3,4,5,6],labels=['Married-civ-spouse', 'Divorced', 'Never-married', 'Separated', 'Widowed', \n",
    "                                           'Married-spouse-absent', 'Married-AF-spouse'],rotation=45)\n",
    "plt.show() "
   ]
  },
  {
   "cell_type": "code",
   "execution_count": 17,
   "id": "d0d6a6ac-4c84-4ae7-b4a2-3ef2f64f8211",
   "metadata": {},
   "outputs": [
    {
     "data": {
      "image/png": "[encoded data removed]",
      "text/plain": [
       "<Figure size 432x288 with 1 Axes>"
      ]
     },
     "metadata": {
      "needs_background": "light"
     },
     "output_type": "display_data"
    }
   ],
   "source": [
    "sns.countplot(data=data, x='occupation') # plot the union variable\n",
    "plt.title('occupation')\n",
    "plt.xlabel('') \n",
    "plt.xticks(ticks=[0,1,2,3,4,5,6,7,8,9,10,11,12,13],labels=['Tech-support', 'Craft-repair', 'Other-service', 'Sales', 'Exec-managerial', \n",
    "                                         'Prof-specialty', 'Handlers-cleaners', 'Machine-op-inspct', 'Adm-clerical', \n",
    "                                         'Farming-fishing', 'Transport-moving', 'Priv-house-serv', 'Protective-serv', \n",
    "                                         'Armed-Forces'],rotation=45)\n",
    "plt.show() "
   ]
  },
  {
   "cell_type": "code",
   "execution_count": 18,
   "id": "78c242a3-41f2-44ae-befd-bff2226e1cb2",
   "metadata": {},
   "outputs": [
    {
     "data": {
      "image/png": "[encoded data removed]",
      "text/plain": [
       "<Figure size 432x288 with 1 Axes>"
      ]
     },
     "metadata": {
      "needs_background": "light"
     },
     "output_type": "display_data"
    }
   ],
   "source": [
    "sns.countplot(data=data, x='relationship') # plot the union variable\n",
    "plt.title('relationship')\n",
    "plt.xlabel('') \n",
    "plt.xticks(ticks=[0,1,2,3,4,5],labels=['Wife', 'Own-child', 'Husband', 'Not-in-family', 'Other-relative', \n",
    "                                         'Unmarried'],rotation=45)\n",
    "plt.show() "
   ]
  },
  {
   "cell_type": "code",
   "execution_count": 19,
   "id": "a5360b13-6dbf-445b-8265-936395a00176",
   "metadata": {},
   "outputs": [
    {
     "data": {
      "image/png": "[encoded data removed]",
      "text/plain": [
       "<Figure size 432x288 with 1 Axes>"
      ]
     },
     "metadata": {
      "needs_background": "light"
     },
     "output_type": "display_data"
    }
   ],
   "source": [
    "sns.countplot(data=data, x='race') # plot the union variable\n",
    "plt.title('race')\n",
    "plt.xlabel('') \n",
    "plt.xticks(ticks=[0,1,2,3,4],labels=['White', 'Asian-Pac-Islander', 'Amer-Indian-Eskimo', 'Other', 'Black'],rotation=45)\n",
    "plt.show() "
   ]
  },
  {
   "cell_type": "code",
   "execution_count": 20,
   "id": "740fea90-3575-4ca7-9b6b-0b3b2db4dd82",
   "metadata": {},
   "outputs": [
    {
     "data": {
      "image/png": "[encoded data removed]",
      "text/plain": [
       "<Figure size 432x288 with 1 Axes>"
      ]
     },
     "metadata": {
      "needs_background": "light"
     },
     "output_type": "display_data"
    }
   ],
   "source": [
    "sns.countplot(data=data, x='sex') # plot the union variable\n",
    "plt.title('sex')\n",
    "plt.xlabel('') \n",
    "plt.xticks(ticks=[0,1],labels=['Female','Male'],rotation=45)\n",
    "plt.show() "
   ]
  },
  {
   "cell_type": "code",
   "execution_count": 21,
   "id": "9b09d5e1-c11d-456d-9d26-7e9c905c1022",
   "metadata": {},
   "outputs": [
    {
     "data": {
      "image/png": "[encoded data removed]",
      "text/plain": [
       "<Figure size 432x288 with 1 Axes>"
      ]
     },
     "metadata": {
      "needs_background": "light"
     },
     "output_type": "display_data"
    }
   ],
   "source": [
    "sns.countplot(data=data, x='country') # plot the union variable\n",
    "plt.title('country')\n",
    "plt.xlabel('') \n",
    "plt.xticks(ticks=[0,1,2,3,4,5,6,7,8,9,10,11,12,13,14,15,16,17,18,19,20,21,22,23,24,25,26,27,28,29,30,31,32,33,\n",
    "                  34,35,36,37,38,39],labels=['United-States', 'Cambodia', 'England', 'Puerto-Rico', 'Canada', 'Germany', \n",
    "                                         'Outlying-US(Guam-USVI-etc)', 'India', 'Japan', 'Greece', 'South', 'China', \n",
    "                                         'Cuba','Iran', 'Honduras', 'Philippines', 'Italy', 'Poland', 'Jamaica', 'Vietnam', 'Mexico', \n",
    "                                         'Portugal', 'Ireland', 'France', 'Dominican-Republic', 'Laos', 'Ecuador', \n",
    "                                         'Haiti', 'Columbia', 'Hungary', 'Guatemala', 'Nicaragua', 'Scotland', 'Thailand', \n",
    "                                         'Yugoslavia', 'El-Salvador', 'Trinadad&Tobago', 'Peru', 'Hong', 'Holand-Netherlands'],rotation=45)\n",
    "plt.show() "
   ]
  },
  {
   "cell_type": "markdown",
   "id": "3bb24334-742b-4449-8104-8528b0293793",
   "metadata": {},
   "source": [
    "The plot above is especially caotic, which gives very little information, so we directly print the values to get a clearer understanding:"
   ]
  },
  {
   "cell_type": "code",
   "execution_count": 22,
   "id": "fb260da9-d190-4508-9b68-a234f478b714",
   "metadata": {},
   "outputs": [
    {
     "name": "stdout",
     "output_type": "stream",
     "text": [
      " United-States                 27487\n",
      " Mexico                          606\n",
      " Philippines                     188\n",
      " Germany                         128\n",
      " China                           110\n",
      " Puerto-Rico                     109\n",
      " Canada                          107\n",
      " India                           100\n",
      " El-Salvador                     100\n",
      " Cuba                             92\n",
      " England                          86\n",
      " Jamaica                          80\n",
      " South                            71\n",
      " Italy                            68\n",
      " Dominican-Republic               67\n",
      " Vietnam                          64\n",
      " Guatemala                        61\n",
      " Japan                            59\n",
      " Columbia                         56\n",
      " Poland                           56\n",
      " Iran                             42\n",
      " Haiti                            42\n",
      " Portugal                         34\n",
      " Nicaragua                        33\n",
      " Peru                             30\n",
      " Greece                           29\n",
      " France                           27\n",
      " Ecuador                          27\n",
      " Ireland                          24\n",
      " Hong                             19\n",
      " Cambodia                         18\n",
      " Trinadad&Tobago                  18\n",
      " Thailand                         17\n",
      " Laos                             17\n",
      " Yugoslavia                       16\n",
      " Outlying-US(Guam-USVI-etc)       14\n",
      " Hungary                          13\n",
      " Honduras                         12\n",
      " Scotland                         11\n",
      " Holand-Netherlands                1\n",
      "Name: country, dtype: int64\n"
     ]
    }
   ],
   "source": [
    "print(data_org['country'].value_counts())"
   ]
  },
  {
   "cell_type": "code",
   "execution_count": 23,
   "id": "8e440d53-6362-4344-a4fc-9c89b7b076d5",
   "metadata": {},
   "outputs": [
    {
     "data": {
      "image/png": "[encoded data removed]",
      "text/plain": [
       "<Figure size 432x288 with 1 Axes>"
      ]
     },
     "metadata": {
      "needs_background": "light"
     },
     "output_type": "display_data"
    }
   ],
   "source": [
    "sns.countplot(data=data, x='income') # plot the union variable\n",
    "plt.title('income')\n",
    "plt.xlabel('') \n",
    "plt.xticks(ticks=[0,1],labels=['<50k', '>=50k'],rotation=45)\n",
    "plt.show() "
   ]
  },
  {
   "cell_type": "markdown",
   "id": "b9670ff4-ff5c-4afc-b49b-5b5906b7df3f",
   "metadata": {},
   "source": [
    "After dealing with the object variables, we standardize the continuous variables to transfer them into the same scale to make it more comparable:"
   ]
  },
  {
   "cell_type": "code",
   "execution_count": 24,
   "id": "02e3c28a-95c7-41c2-9c9a-2f3369d5b906",
   "metadata": {},
   "outputs": [
    {
     "name": "stdout",
     "output_type": "stream",
     "text": [
      "<class 'pandas.core.frame.DataFrame'>\n",
      "Int64Index: 30139 entries, 0 to 32560\n",
      "Data columns (total 15 columns):\n",
      " #   Column          Non-Null Count  Dtype  \n",
      "---  ------          --------------  -----  \n",
      " 0   age             30139 non-null  float64\n",
      " 1   workclass       30139 non-null  int64  \n",
      " 2   fnlwgt          30139 non-null  float64\n",
      " 3   education       30139 non-null  int64  \n",
      " 4   edu_num         30139 non-null  float64\n",
      " 5   marital         30139 non-null  int64  \n",
      " 6   occupation      30139 non-null  int64  \n",
      " 7   relationship    30139 non-null  int64  \n",
      " 8   race            30139 non-null  int64  \n",
      " 9   sex             30139 non-null  int64  \n",
      " 10  capital_gain    30139 non-null  float64\n",
      " 11  capital_loss    30139 non-null  float64\n",
      " 12  hours_per_week  30139 non-null  float64\n",
      " 13  country         30139 non-null  int64  \n",
      " 14  income          30139 non-null  int64  \n",
      "dtypes: float64(6), int64(9)\n",
      "memory usage: 3.7 MB\n"
     ]
    }
   ],
   "source": [
    "numeric_cols = ['age', 'fnlwgt', 'edu_num', 'capital_gain', 'capital_loss', 'hours_per_week']\n",
    "scaler = StandardScaler()\n",
    "for col in numeric_cols:\n",
    "    data[col] = scaler.fit_transform(data[[col]].values)\n",
    "data.info()"
   ]
  },
  {
   "cell_type": "code",
   "execution_count": 25,
   "id": "469234bf-86f6-4cf1-8594-491e1b9824e0",
   "metadata": {},
   "outputs": [
    {
     "data": {
      "text/html": [
       "<div>\n",
       "<style scoped>\n",
       "    .dataframe tbody tr th:only-of-type {\n",
       "        vertical-align: middle;\n",
       "    }\n",
       "\n",
       "    .dataframe tbody tr th {\n",
       "        vertical-align: top;\n",
       "    }\n",
       "\n",
       "    .dataframe thead th {\n",
       "        text-align: right;\n",
       "    }\n",
       "</style>\n",
       "<table border=\"1\" class=\"dataframe\">\n",
       "  <thead>\n",
       "    <tr style=\"text-align: right;\">\n",
       "      <th></th>\n",
       "      <th>age</th>\n",
       "      <th>workclass</th>\n",
       "      <th>fnlwgt</th>\n",
       "      <th>education</th>\n",
       "      <th>edu_num</th>\n",
       "      <th>marital</th>\n",
       "      <th>occupation</th>\n",
       "      <th>relationship</th>\n",
       "      <th>race</th>\n",
       "      <th>sex</th>\n",
       "      <th>capital_gain</th>\n",
       "      <th>capital_loss</th>\n",
       "      <th>hours_per_week</th>\n",
       "      <th>country</th>\n",
       "      <th>income</th>\n",
       "    </tr>\n",
       "  </thead>\n",
       "  <tbody>\n",
       "    <tr>\n",
       "      <th>0</th>\n",
       "      <td>0.0425</td>\n",
       "      <td>5</td>\n",
       "      <td>-1.0627</td>\n",
       "      <td>9</td>\n",
       "      <td>1.1290</td>\n",
       "      <td>4</td>\n",
       "      <td>0</td>\n",
       "      <td>1</td>\n",
       "      <td>4</td>\n",
       "      <td>1</td>\n",
       "      <td>0.1459</td>\n",
       "      <td>-0.2187</td>\n",
       "      <td>-0.0780</td>\n",
       "      <td>37</td>\n",
       "      <td>0</td>\n",
       "    </tr>\n",
       "    <tr>\n",
       "      <th>1</th>\n",
       "      <td>0.8802</td>\n",
       "      <td>4</td>\n",
       "      <td>-1.0078</td>\n",
       "      <td>9</td>\n",
       "      <td>1.1290</td>\n",
       "      <td>2</td>\n",
       "      <td>3</td>\n",
       "      <td>0</td>\n",
       "      <td>4</td>\n",
       "      <td>1</td>\n",
       "      <td>-0.1475</td>\n",
       "      <td>-0.2187</td>\n",
       "      <td>-2.3321</td>\n",
       "      <td>37</td>\n",
       "      <td>0</td>\n",
       "    </tr>\n",
       "    <tr>\n",
       "      <th>2</th>\n",
       "      <td>-0.0336</td>\n",
       "      <td>2</td>\n",
       "      <td>0.2447</td>\n",
       "      <td>11</td>\n",
       "      <td>-0.4404</td>\n",
       "      <td>0</td>\n",
       "      <td>5</td>\n",
       "      <td>1</td>\n",
       "      <td>4</td>\n",
       "      <td>1</td>\n",
       "      <td>-0.1475</td>\n",
       "      <td>-0.2187</td>\n",
       "      <td>-0.0780</td>\n",
       "      <td>37</td>\n",
       "      <td>0</td>\n",
       "    </tr>\n",
       "    <tr>\n",
       "      <th>3</th>\n",
       "      <td>1.1087</td>\n",
       "      <td>2</td>\n",
       "      <td>0.4252</td>\n",
       "      <td>1</td>\n",
       "      <td>-1.2251</td>\n",
       "      <td>2</td>\n",
       "      <td>5</td>\n",
       "      <td>0</td>\n",
       "      <td>2</td>\n",
       "      <td>1</td>\n",
       "      <td>-0.1475</td>\n",
       "      <td>-0.2187</td>\n",
       "      <td>-0.0780</td>\n",
       "      <td>37</td>\n",
       "      <td>0</td>\n",
       "    </tr>\n",
       "    <tr>\n",
       "      <th>4</th>\n",
       "      <td>-0.7952</td>\n",
       "      <td>2</td>\n",
       "      <td>1.4066</td>\n",
       "      <td>9</td>\n",
       "      <td>1.1290</td>\n",
       "      <td>2</td>\n",
       "      <td>9</td>\n",
       "      <td>5</td>\n",
       "      <td>2</td>\n",
       "      <td>0</td>\n",
       "      <td>-0.1475</td>\n",
       "      <td>-0.2187</td>\n",
       "      <td>-0.0780</td>\n",
       "      <td>4</td>\n",
       "      <td>0</td>\n",
       "    </tr>\n",
       "  </tbody>\n",
       "</table>\n",
       "</div>"
      ],
      "text/plain": [
       "                                       age  workclass  \\\n",
       "0                                   0.0425          5   \n",
       "1                                   0.8802          4   \n",
       "2                                  -0.0336          2   \n",
       "3                                   1.1087          2   \n",
       "4                                  -0.7952          2   \n",
       "\n",
       "                                    fnlwgt  education  \\\n",
       "0                                  -1.0627          9   \n",
       "1                                  -1.0078          9   \n",
       "2                                   0.2447         11   \n",
       "3                                   0.4252          1   \n",
       "4                                   1.4066          9   \n",
       "\n",
       "                                   edu_num  marital  occupation  relationship  \\\n",
       "0                                   1.1290        4           0             1   \n",
       "1                                   1.1290        2           3             0   \n",
       "2                                  -0.4404        0           5             1   \n",
       "3                                  -1.2251        2           5             0   \n",
       "4                                   1.1290        2           9             5   \n",
       "\n",
       "   race  sex                             capital_gain  \\\n",
       "0     4    1                                   0.1459   \n",
       "1     4    1                                  -0.1475   \n",
       "2     4    1                                  -0.1475   \n",
       "3     2    1                                  -0.1475   \n",
       "4     2    0                                  -0.1475   \n",
       "\n",
       "                              capital_loss  \\\n",
       "0                                  -0.2187   \n",
       "1                                  -0.2187   \n",
       "2                                  -0.2187   \n",
       "3                                  -0.2187   \n",
       "4                                  -0.2187   \n",
       "\n",
       "                            hours_per_week  country  income  \n",
       "0                                  -0.0780       37       0  \n",
       "1                                  -2.3321       37       0  \n",
       "2                                  -0.0780       37       0  \n",
       "3                                  -0.0780       37       0  \n",
       "4                                  -0.0780        4       0  "
      ]
     },
     "execution_count": 25,
     "metadata": {},
     "output_type": "execute_result"
    }
   ],
   "source": [
    "data.head()"
   ]
  },
  {
   "cell_type": "markdown",
   "id": "83376c4b-6984-449f-b656-46928906c8f2",
   "metadata": {},
   "source": [
    "Using the .describe() function of look at the summary statistics of each variable:"
   ]
  },
  {
   "cell_type": "code",
   "execution_count": 26,
   "id": "66e40198-d32c-4411-9131-75200d70f8e7",
   "metadata": {},
   "outputs": [
    {
     "data": {
      "text/html": [
       "<div>\n",
       "<style scoped>\n",
       "    .dataframe tbody tr th:only-of-type {\n",
       "        vertical-align: middle;\n",
       "    }\n",
       "\n",
       "    .dataframe tbody tr th {\n",
       "        vertical-align: top;\n",
       "    }\n",
       "\n",
       "    .dataframe thead th {\n",
       "        text-align: right;\n",
       "    }\n",
       "</style>\n",
       "<table border=\"1\" class=\"dataframe\">\n",
       "  <thead>\n",
       "    <tr style=\"text-align: right;\">\n",
       "      <th></th>\n",
       "      <th>count</th>\n",
       "      <th>mean</th>\n",
       "      <th>std</th>\n",
       "      <th>min</th>\n",
       "      <th>25%</th>\n",
       "      <th>50%</th>\n",
       "      <th>75%</th>\n",
       "      <th>max</th>\n",
       "    </tr>\n",
       "  </thead>\n",
       "  <tbody>\n",
       "    <tr>\n",
       "      <th>age</th>\n",
       "      <td>30,139.0000</td>\n",
       "      <td>0.0000</td>\n",
       "      <td>1.0000</td>\n",
       "      <td>-1.6300</td>\n",
       "      <td>-0.8000</td>\n",
       "      <td>-0.1100</td>\n",
       "      <td>0.6500</td>\n",
       "      <td>3.9300</td>\n",
       "    </tr>\n",
       "    <tr>\n",
       "      <th>workclass</th>\n",
       "      <td>30,139.0000</td>\n",
       "      <td>2.2000</td>\n",
       "      <td>0.9500</td>\n",
       "      <td>0.0000</td>\n",
       "      <td>2.0000</td>\n",
       "      <td>2.0000</td>\n",
       "      <td>2.0000</td>\n",
       "      <td>6.0000</td>\n",
       "    </tr>\n",
       "    <tr>\n",
       "      <th>fnlwgt</th>\n",
       "      <td>30,139.0000</td>\n",
       "      <td>-0.0000</td>\n",
       "      <td>1.0000</td>\n",
       "      <td>-1.6700</td>\n",
       "      <td>-0.6800</td>\n",
       "      <td>-0.1100</td>\n",
       "      <td>0.4500</td>\n",
       "      <td>12.2600</td>\n",
       "    </tr>\n",
       "    <tr>\n",
       "      <th>education</th>\n",
       "      <td>30,139.0000</td>\n",
       "      <td>10.3300</td>\n",
       "      <td>3.8100</td>\n",
       "      <td>0.0000</td>\n",
       "      <td>9.0000</td>\n",
       "      <td>11.0000</td>\n",
       "      <td>12.0000</td>\n",
       "      <td>15.0000</td>\n",
       "    </tr>\n",
       "    <tr>\n",
       "      <th>edu_num</th>\n",
       "      <td>30,139.0000</td>\n",
       "      <td>0.0000</td>\n",
       "      <td>1.0000</td>\n",
       "      <td>-3.5800</td>\n",
       "      <td>-0.4400</td>\n",
       "      <td>-0.0500</td>\n",
       "      <td>1.1300</td>\n",
       "      <td>2.3100</td>\n",
       "    </tr>\n",
       "    <tr>\n",
       "      <th>marital</th>\n",
       "      <td>30,139.0000</td>\n",
       "      <td>2.5800</td>\n",
       "      <td>1.5000</td>\n",
       "      <td>0.0000</td>\n",
       "      <td>2.0000</td>\n",
       "      <td>2.0000</td>\n",
       "      <td>4.0000</td>\n",
       "      <td>6.0000</td>\n",
       "    </tr>\n",
       "    <tr>\n",
       "      <th>occupation</th>\n",
       "      <td>30,139.0000</td>\n",
       "      <td>5.9600</td>\n",
       "      <td>4.0300</td>\n",
       "      <td>0.0000</td>\n",
       "      <td>2.0000</td>\n",
       "      <td>6.0000</td>\n",
       "      <td>9.0000</td>\n",
       "      <td>13.0000</td>\n",
       "    </tr>\n",
       "    <tr>\n",
       "      <th>relationship</th>\n",
       "      <td>30,139.0000</td>\n",
       "      <td>1.4200</td>\n",
       "      <td>1.6000</td>\n",
       "      <td>0.0000</td>\n",
       "      <td>0.0000</td>\n",
       "      <td>1.0000</td>\n",
       "      <td>3.0000</td>\n",
       "      <td>5.0000</td>\n",
       "    </tr>\n",
       "    <tr>\n",
       "      <th>race</th>\n",
       "      <td>30,139.0000</td>\n",
       "      <td>3.6800</td>\n",
       "      <td>0.8300</td>\n",
       "      <td>0.0000</td>\n",
       "      <td>4.0000</td>\n",
       "      <td>4.0000</td>\n",
       "      <td>4.0000</td>\n",
       "      <td>4.0000</td>\n",
       "    </tr>\n",
       "    <tr>\n",
       "      <th>sex</th>\n",
       "      <td>30,139.0000</td>\n",
       "      <td>0.6800</td>\n",
       "      <td>0.4700</td>\n",
       "      <td>0.0000</td>\n",
       "      <td>0.0000</td>\n",
       "      <td>1.0000</td>\n",
       "      <td>1.0000</td>\n",
       "      <td>1.0000</td>\n",
       "    </tr>\n",
       "    <tr>\n",
       "      <th>capital_gain</th>\n",
       "      <td>30,139.0000</td>\n",
       "      <td>-0.0000</td>\n",
       "      <td>1.0000</td>\n",
       "      <td>-0.1500</td>\n",
       "      <td>-0.1500</td>\n",
       "      <td>-0.1500</td>\n",
       "      <td>-0.1500</td>\n",
       "      <td>13.3500</td>\n",
       "    </tr>\n",
       "    <tr>\n",
       "      <th>capital_loss</th>\n",
       "      <td>30,139.0000</td>\n",
       "      <td>0.0000</td>\n",
       "      <td>1.0000</td>\n",
       "      <td>-0.2200</td>\n",
       "      <td>-0.2200</td>\n",
       "      <td>-0.2200</td>\n",
       "      <td>-0.2200</td>\n",
       "      <td>10.5500</td>\n",
       "    </tr>\n",
       "    <tr>\n",
       "      <th>hours_per_week</th>\n",
       "      <td>30,139.0000</td>\n",
       "      <td>0.0000</td>\n",
       "      <td>1.0000</td>\n",
       "      <td>-3.3300</td>\n",
       "      <td>-0.0800</td>\n",
       "      <td>-0.0800</td>\n",
       "      <td>0.3400</td>\n",
       "      <td>4.8500</td>\n",
       "    </tr>\n",
       "    <tr>\n",
       "      <th>country</th>\n",
       "      <td>30,139.0000</td>\n",
       "      <td>35.4200</td>\n",
       "      <td>5.9900</td>\n",
       "      <td>0.0000</td>\n",
       "      <td>37.0000</td>\n",
       "      <td>37.0000</td>\n",
       "      <td>37.0000</td>\n",
       "      <td>39.0000</td>\n",
       "    </tr>\n",
       "    <tr>\n",
       "      <th>income</th>\n",
       "      <td>30,139.0000</td>\n",
       "      <td>0.2500</td>\n",
       "      <td>0.4300</td>\n",
       "      <td>0.0000</td>\n",
       "      <td>0.0000</td>\n",
       "      <td>0.0000</td>\n",
       "      <td>0.0000</td>\n",
       "      <td>1.0000</td>\n",
       "    </tr>\n",
       "  </tbody>\n",
       "</table>\n",
       "</div>"
      ],
      "text/plain": [
       "                                                  count  \\\n",
       "age                                         30,139.0000   \n",
       "workclass                                   30,139.0000   \n",
       "fnlwgt                                      30,139.0000   \n",
       "education                                   30,139.0000   \n",
       "edu_num                                     30,139.0000   \n",
       "marital                                     30,139.0000   \n",
       "occupation                                  30,139.0000   \n",
       "relationship                                30,139.0000   \n",
       "race                                        30,139.0000   \n",
       "sex                                         30,139.0000   \n",
       "capital_gain                                30,139.0000   \n",
       "capital_loss                                30,139.0000   \n",
       "hours_per_week                              30,139.0000   \n",
       "country                                     30,139.0000   \n",
       "income                                      30,139.0000   \n",
       "\n",
       "                                                   mean  \\\n",
       "age                                              0.0000   \n",
       "workclass                                        2.2000   \n",
       "fnlwgt                                          -0.0000   \n",
       "education                                       10.3300   \n",
       "edu_num                                          0.0000   \n",
       "marital                                          2.5800   \n",
       "occupation                                       5.9600   \n",
       "relationship                                     1.4200   \n",
       "race                                             3.6800   \n",
       "sex                                              0.6800   \n",
       "capital_gain                                    -0.0000   \n",
       "capital_loss                                     0.0000   \n",
       "hours_per_week                                   0.0000   \n",
       "country                                         35.4200   \n",
       "income                                           0.2500   \n",
       "\n",
       "                                                    std  \\\n",
       "age                                              1.0000   \n",
       "workclass                                        0.9500   \n",
       "fnlwgt                                           1.0000   \n",
       "education                                        3.8100   \n",
       "edu_num                                          1.0000   \n",
       "marital                                          1.5000   \n",
       "occupation                                       4.0300   \n",
       "relationship                                     1.6000   \n",
       "race                                             0.8300   \n",
       "sex                                              0.4700   \n",
       "capital_gain                                     1.0000   \n",
       "capital_loss                                     1.0000   \n",
       "hours_per_week                                   1.0000   \n",
       "country                                          5.9900   \n",
       "income                                           0.4300   \n",
       "\n",
       "                                                    min  \\\n",
       "age                                             -1.6300   \n",
       "workclass                                        0.0000   \n",
       "fnlwgt                                          -1.6700   \n",
       "education                                        0.0000   \n",
       "edu_num                                         -3.5800   \n",
       "marital                                          0.0000   \n",
       "occupation                                       0.0000   \n",
       "relationship                                     0.0000   \n",
       "race                                             0.0000   \n",
       "sex                                              0.0000   \n",
       "capital_gain                                    -0.1500   \n",
       "capital_loss                                    -0.2200   \n",
       "hours_per_week                                  -3.3300   \n",
       "country                                          0.0000   \n",
       "income                                           0.0000   \n",
       "\n",
       "                                                    25%  \\\n",
       "age                                             -0.8000   \n",
       "workclass                                        2.0000   \n",
       "fnlwgt                                          -0.6800   \n",
       "education                                        9.0000   \n",
       "edu_num                                         -0.4400   \n",
       "marital                                          2.0000   \n",
       "occupation                                       2.0000   \n",
       "relationship                                     0.0000   \n",
       "race                                             4.0000   \n",
       "sex                                              0.0000   \n",
       "capital_gain                                    -0.1500   \n",
       "capital_loss                                    -0.2200   \n",
       "hours_per_week                                  -0.0800   \n",
       "country                                         37.0000   \n",
       "income                                           0.0000   \n",
       "\n",
       "                                                    50%  \\\n",
       "age                                             -0.1100   \n",
       "workclass                                        2.0000   \n",
       "fnlwgt                                          -0.1100   \n",
       "education                                       11.0000   \n",
       "edu_num                                         -0.0500   \n",
       "marital                                          2.0000   \n",
       "occupation                                       6.0000   \n",
       "relationship                                     1.0000   \n",
       "race                                             4.0000   \n",
       "sex                                              1.0000   \n",
       "capital_gain                                    -0.1500   \n",
       "capital_loss                                    -0.2200   \n",
       "hours_per_week                                  -0.0800   \n",
       "country                                         37.0000   \n",
       "income                                           0.0000   \n",
       "\n",
       "                                                    75%  \\\n",
       "age                                              0.6500   \n",
       "workclass                                        2.0000   \n",
       "fnlwgt                                           0.4500   \n",
       "education                                       12.0000   \n",
       "edu_num                                          1.1300   \n",
       "marital                                          4.0000   \n",
       "occupation                                       9.0000   \n",
       "relationship                                     3.0000   \n",
       "race                                             4.0000   \n",
       "sex                                              1.0000   \n",
       "capital_gain                                    -0.1500   \n",
       "capital_loss                                    -0.2200   \n",
       "hours_per_week                                   0.3400   \n",
       "country                                         37.0000   \n",
       "income                                           0.0000   \n",
       "\n",
       "                                                    max  \n",
       "age                                              3.9300  \n",
       "workclass                                        6.0000  \n",
       "fnlwgt                                          12.2600  \n",
       "education                                       15.0000  \n",
       "edu_num                                          2.3100  \n",
       "marital                                          6.0000  \n",
       "occupation                                      13.0000  \n",
       "relationship                                     5.0000  \n",
       "race                                             4.0000  \n",
       "sex                                              1.0000  \n",
       "capital_gain                                    13.3500  \n",
       "capital_loss                                    10.5500  \n",
       "hours_per_week                                   4.8500  \n",
       "country                                         39.0000  \n",
       "income                                           1.0000  "
      ]
     },
     "execution_count": 26,
     "metadata": {},
     "output_type": "execute_result"
    }
   ],
   "source": [
    "summary=data.describe().round(2)  # generate summary statistics, and round everything to 2 decimal degrees\n",
    "summary=summary.T #.T transposes the table (rows become columns and vice versa)\n",
    "summary"
   ]
  },
  {
   "cell_type": "markdown",
   "id": "922e0cfc-43b0-403f-809e-fdc4f2369157",
   "metadata": {},
   "source": [
    "# Methodology"
   ]
  },
  {
   "cell_type": "markdown",
   "id": "41723a1a-675c-4feb-82f6-03cbc7883f2b",
   "metadata": {},
   "source": [
    "Since there are multiple independent variables and one dependent variable, the regression method is firstly considered to observe their relationship. The dependent variable Income is binary, classified as <50k and >=50k, so logistic regression is more suitble within this context. Logistic regression is a type of generalized linear model that uses the logistic function to model the relationship between a binary dependent variable and one or more independent variables. Therefore, it is the ideal statistical method for this research. However, compared to other more advanced machine learning methods, it has some limitations:\n",
    "1. Logistic regression presumes a linear relationship between the log odds of the outcome variable and the predictor variables. However, this assumption might not be valid for this research, in which case non-linear relationships among variables is of greater chance.\n",
    "2. Logistic regression may have difficulty in capturing the complexity of interactions among variables, at least not as well as more advanced models like decision trees, random forests, and deep learning models. \n",
    "3. Logistic regression is sensitive to outliers, potentially resulting in overfitting and inacurate predictions.\n",
    "\n",
    "Therefore, decision tree and random forest will be used as well to more accurately build the model and to observe which of these factors have greater impact on income level. In building decision tree classifier, the hyperparameters including maximum depth and minimum sample split will be tuned by using ```GridSearchCV``` to find the optimal combination. After building the models, the accuracy of the models will be listed for comparison."
   ]
  },
  {
   "cell_type": "markdown",
   "id": "36217892-4b98-46b0-9678-59a0bbc529e6",
   "metadata": {},
   "source": [
    "## Logistic Regression"
   ]
  },
  {
   "cell_type": "markdown",
   "id": "25304139-20a0-41fb-a1c7-2d2993bf3aac",
   "metadata": {},
   "source": [
    "Setting a variable X to be the independent variable set by excluding income from the data:"
   ]
  },
  {
   "cell_type": "code",
   "execution_count": 27,
   "id": "eaa45fe0-2b01-4e86-8983-35524d5683e4",
   "metadata": {},
   "outputs": [],
   "source": [
    "X = data.drop(['income'], axis = 1)\n",
    "income = data['income']"
   ]
  },
  {
   "cell_type": "markdown",
   "id": "4047b7c9-ae9d-462d-9d09-bff8e4640b21",
   "metadata": {},
   "source": [
    "Building a logistic regression and then fit it:"
   ]
  },
  {
   "cell_type": "code",
   "execution_count": 28,
   "id": "f7b732a4-e76a-4aef-8cb6-f59ff87f139b",
   "metadata": {},
   "outputs": [
    {
     "name": "stderr",
     "output_type": "stream",
     "text": [
      "/opt/conda/lib/python3.10/site-packages/sklearn/linear_model/_logistic.py:444: ConvergenceWarning: lbfgs failed to converge (status=1):\n",
      "STOP: TOTAL NO. of ITERATIONS REACHED LIMIT.\n",
      "\n",
      "Increase the number of iterations (max_iter) or scale the data as shown in:\n",
      "    https://scikit-learn.org/stable/modules/preprocessing.html\n",
      "Please also refer to the documentation for alternative solver options:\n",
      "    https://scikit-learn.org/stable/modules/linear_model.html#logistic-regression\n",
      "  n_iter_i = _check_optimize_result(\n"
     ]
    }
   ],
   "source": [
    "logreg = LogisticRegression()\n",
    "logreg.fit(X, income)\n",
    "y_pred=logreg.predict(X)"
   ]
  },
  {
   "cell_type": "markdown",
   "id": "1d6ccb41-dae8-4f1d-bf1d-2d3bca8b6ea8",
   "metadata": {},
   "source": [
    "Print the coefficients of each independent variable and accuracy of the model, then draw the confusion matrix:"
   ]
  },
  {
   "cell_type": "code",
   "execution_count": 29,
   "id": "3e39bf16-de20-4751-ae31-e0acb016d328",
   "metadata": {},
   "outputs": [
    {
     "name": "stdout",
     "output_type": "stream",
     "text": [
      "age : 0.45332219632585313\n",
      "workclass : -0.12053612508622287\n",
      "fnlwgt : 0.051192007562625444\n",
      "education : 0.01781336379548908\n",
      "edu_num : 0.8258198000313188\n",
      "marital : -0.21967304014294953\n",
      "occupation : -0.001326286597562123\n",
      "relationship : -0.13356852742708936\n",
      "race : 0.09903988747116774\n",
      "sex : 0.821153025595385\n",
      "capital_gain : 2.4088145018561278\n",
      "capital_loss : 0.2777374287544041\n",
      "hours_per_week : 0.3548057223036181\n",
      "country : -0.004522077963938876\n",
      "------------------------------------------\n",
      "Accuracy of the model is: 0.8192707123660373\n",
      "The confusion matrix is:\n"
     ]
    },
    {
     "data": {
      "text/plain": [
       "<AxesSubplot:>"
      ]
     },
     "execution_count": 29,
     "metadata": {},
     "output_type": "execute_result"
    },
    {
     "data": {
      "image/png": "[encoded data removed]",
      "text/plain": [
       "<Figure size 576x360 with 2 Axes>"
      ]
     },
     "metadata": {
      "needs_background": "light"
     },
     "output_type": "display_data"
    }
   ],
   "source": [
    "coef_dict = {}\n",
    "for coef, feat in zip(logreg.coef_.flatten().tolist(),X.columns):\n",
    "    coef_dict[feat] = coef\n",
    "    print(feat, \":\", coef)\n",
    "print(\"------------------------------------------\")\n",
    "    \n",
    "acc = sklearn.metrics.accuracy_score(income,y_pred)\n",
    "print(\"Accuracy of the model is: \" + str(acc))\n",
    "\n",
    "print(\"The confusion matrix is:\")\n",
    "cm=confusion_matrix(income,y_pred)\n",
    "conf_matrix=pd.DataFrame(data=cm,columns=['Predicted:0','Predicted:1'],index=['Actual:0','Actual:1'])\n",
    "plt.figure(figsize = (8,5))\n",
    "sns.heatmap(conf_matrix, annot=True,fmt='d',cmap=\"YlGnBu\")"
   ]
  },
  {
   "cell_type": "markdown",
   "id": "be7d0cc5-be04-47a7-9478-34771cece23a",
   "metadata": {},
   "source": [
    "## Decision Tree"
   ]
  },
  {
   "cell_type": "markdown",
   "id": "5069a294-b600-49a2-8e62-4c0dd0b3bf27",
   "metadata": {},
   "source": [
    "Creating a dictionary array to store the dataset:"
   ]
  },
  {
   "cell_type": "code",
   "execution_count": 30,
   "id": "7e973069-fcf2-467a-a128-753353f18a98",
   "metadata": {},
   "outputs": [
    {
     "name": "stdout",
     "output_type": "stream",
     "text": [
      "{'age': 0.042515506897587416, 'workclass': 5, 'fnlwgt': -1.0626760419550594, 'education': 9, 'edu_num': 1.128995981400911, 'marital': 4, 'occupation': 0, 'relationship': 1, 'race': 4, 'sex': 1, 'capital_gain': 0.14592530644158153, 'capital_loss': -0.21867335078526204, 'hours_per_week': -0.0780313310622559, 'country': 37}\n"
     ]
    }
   ],
   "source": [
    "X_dict = X.to_dict('records')\n",
    "print(X_dict[0])"
   ]
  },
  {
   "cell_type": "markdown",
   "id": "2255e029-90cb-4bd4-a12a-64596c3d67a1",
   "metadata": {},
   "source": [
    "Exlude the variable names and create X_matrix, then convert it into an array:"
   ]
  },
  {
   "cell_type": "code",
   "execution_count": 31,
   "id": "0c24a39e-27a5-4aeb-bdbf-efd567e01036",
   "metadata": {},
   "outputs": [],
   "source": [
    "vec = DictVectorizer()\n",
    "X_matrix = vec.fit_transform(X_dict)"
   ]
  },
  {
   "cell_type": "code",
   "execution_count": 32,
   "id": "a935fc36-7d72-41e2-989d-a16a733e2b4f",
   "metadata": {},
   "outputs": [
    {
     "name": "stdout",
     "output_type": "stream",
     "text": [
      "['age', 'capital_gain', 'capital_loss', 'country', 'edu_num']\n",
      "{'age': 0, 'workclass': 13, 'fnlwgt': 6, 'education': 5, 'edu_num': 4, 'marital': 8, 'occupation': 9, 'relationship': 11, 'race': 10, 'sex': 12, 'capital_gain': 1, 'capital_loss': 2, 'hours_per_week': 7, 'country': 3}\n"
     ]
    }
   ],
   "source": [
    "print(vec.feature_names_[0:5])\n",
    "print(vec.vocabulary_)"
   ]
  },
  {
   "cell_type": "code",
   "execution_count": 33,
   "id": "55a743bf-3d1e-4b9f-a475-4cac2539b78d",
   "metadata": {},
   "outputs": [
    {
     "name": "stdout",
     "output_type": "stream",
     "text": [
      "(30139, 14)\n",
      "<class 'numpy.ndarray'>\n"
     ]
    }
   ],
   "source": [
    "X_array = X_matrix.toarray()\n",
    "print(X_array.shape)\n",
    "print(type(X_array))"
   ]
  },
  {
   "cell_type": "markdown",
   "id": "00ef2993-9c47-431f-b1d9-b7313ec94a3e",
   "metadata": {},
   "source": [
    "Divide the dataset into training data and testing data based on the default ratio, which is 75:25 division:"
   ]
  },
  {
   "cell_type": "code",
   "execution_count": 34,
   "id": "a158c1f2-b1e5-49b4-89ef-7f0d860a1236",
   "metadata": {},
   "outputs": [],
   "source": [
    "random_state_split = 100\n",
    "train_x, test_x, train_y, test_y = train_test_split(X_array,income, random_state=random_state_split)"
   ]
  },
  {
   "cell_type": "code",
   "execution_count": 35,
   "id": "420c6c26-14c9-47ce-8f22-39e68e4d1e81",
   "metadata": {},
   "outputs": [
    {
     "name": "stdout",
     "output_type": "stream",
     "text": [
      "(22604, 14)\n",
      "(22604,)\n",
      "(7535, 14)\n",
      "(7535,)\n"
     ]
    }
   ],
   "source": [
    "print(train_x.shape)\n",
    "print(train_y.shape)\n",
    "print(test_x.shape)\n",
    "print(test_y.shape)"
   ]
  },
  {
   "cell_type": "markdown",
   "id": "13578536-9a88-45f4-9462-45a7178d856e",
   "metadata": {},
   "source": [
    "Firstly, create a default decision tree classfier:"
   ]
  },
  {
   "cell_type": "code",
   "execution_count": 36,
   "id": "f829c02f-3d60-462f-9e5e-38b1dc9bb679",
   "metadata": {},
   "outputs": [],
   "source": [
    "clf = DecisionTreeClassifier(random_state=0)\n",
    "clf.fit(train_x, train_y)\n",
    "pred = clf.predict(test_x)"
   ]
  },
  {
   "cell_type": "markdown",
   "id": "f823746d-04db-48e1-b61c-fd075ea8074d",
   "metadata": {},
   "source": [
    "The score on the training dataset is:"
   ]
  },
  {
   "cell_type": "code",
   "execution_count": 37,
   "id": "de8202b8-b816-4430-86e1-faad998e93f6",
   "metadata": {},
   "outputs": [
    {
     "data": {
      "text/plain": [
       "1.0"
      ]
     },
     "execution_count": 37,
     "metadata": {},
     "output_type": "execute_result"
    }
   ],
   "source": [
    "score_train = clf.score(train_x, train_y)\n",
    "score_train"
   ]
  },
  {
   "cell_type": "markdown",
   "id": "8fd993b7-48ad-4891-9514-3f9eccb0a31d",
   "metadata": {},
   "source": [
    "The score on the testing dataset is:"
   ]
  },
  {
   "cell_type": "code",
   "execution_count": 38,
   "id": "3adc92da-9a31-4024-b090-692911f3223f",
   "metadata": {},
   "outputs": [
    {
     "data": {
      "text/plain": [
       "0.8114134041141341"
      ]
     },
     "execution_count": 38,
     "metadata": {},
     "output_type": "execute_result"
    }
   ],
   "source": [
    "score_test = clf.score(test_x, test_y)\n",
    "score_test"
   ]
  },
  {
   "cell_type": "markdown",
   "id": "8d0b283a-c9b0-470f-a909-665fdcbc96e6",
   "metadata": {},
   "source": [
    "The tree depth with default settings is:"
   ]
  },
  {
   "cell_type": "code",
   "execution_count": 39,
   "id": "49109813-8f6d-463e-ac94-819c2915564a",
   "metadata": {},
   "outputs": [
    {
     "data": {
      "text/plain": [
       "48"
      ]
     },
     "execution_count": 39,
     "metadata": {},
     "output_type": "execute_result"
    }
   ],
   "source": [
    "clf.get_depth()"
   ]
  },
  {
   "cell_type": "markdown",
   "id": "57473869-93ff-4333-b268-864528db87b8",
   "metadata": {},
   "source": [
    "Tune the hyperparameters:"
   ]
  },
  {
   "cell_type": "code",
   "execution_count": 40,
   "id": "af5fce4b-a2d1-4df4-965c-586762928f98",
   "metadata": {},
   "outputs": [
    {
     "name": "stdout",
     "output_type": "stream",
     "text": [
      "The best parameter value is: \n",
      "{'max_depth': 30, 'min_samples_split': 16}\n",
      "The best score is: \n",
      "0.8242789695286306\n"
     ]
    }
   ],
   "source": [
    "hyperparameters = {'max_depth':[30,50,70,90,110], 'min_samples_split':[10,12,14,16,18]}\n",
    "\n",
    "randomState_dt = 10000\n",
    "dt = DecisionTreeClassifier(random_state=randomState_dt)\n",
    "\n",
    "# cv=5 by default, which means 5-fold cross-validation\n",
    "clf_1 = GridSearchCV(dt, hyperparameters)\n",
    "\n",
    "clf_1.fit(train_x, train_y)\n",
    "\n",
    "# query the best parameter value and its accuracy score\n",
    "print (\"The best parameter value is: \")\n",
    "print (clf_1.best_params_)\n",
    "print (\"The best score is: \")\n",
    "print (clf_1.best_score_)"
   ]
  },
  {
   "cell_type": "markdown",
   "id": "3ae03c8f-115c-4ccd-9671-bd2f9ed70874",
   "metadata": {},
   "source": [
    "Build models with the 8 values of the max_depth and store the test scores in variable test:"
   ]
  },
  {
   "cell_type": "code",
   "execution_count": 41,
   "id": "c3270a90-4b2b-46cc-9290-06cefb26145a",
   "metadata": {},
   "outputs": [],
   "source": [
    "test = []\n",
    "for i in range(30,110,10):\n",
    "    clf_test = DecisionTreeClassifier(random_state=10000 ,max_depth=i,min_samples_split=16)\n",
    "    clf_test = clf_test.fit(train_x,train_y)\n",
    "    score = clf_test.score(test_x,test_y)\n",
    "    test.append(score)"
   ]
  },
  {
   "cell_type": "markdown",
   "id": "418a431b-1d45-4588-b655-b19ce7442364",
   "metadata": {},
   "source": [
    "Visualize the test scores of these models:"
   ]
  },
  {
   "cell_type": "code",
   "execution_count": 42,
   "id": "a2dc4313-6f58-4268-9610-dc231d00a7a2",
   "metadata": {},
   "outputs": [
    {
     "name": "stdout",
     "output_type": "stream",
     "text": [
      "[0.8272063702720637, 0.8264100862641008, 0.8262773722627738, 0.8262773722627738, 0.8262773722627738, 0.8262773722627738, 0.8262773722627738, 0.8262773722627738]\n"
     ]
    },
    {
     "data": {
      "image/png": "[encoded data removed]",
      "text/plain": [
       "<Figure size 432x288 with 1 Axes>"
      ]
     },
     "metadata": {
      "needs_background": "light"
     },
     "output_type": "display_data"
    }
   ],
   "source": [
    "print(test)\n",
    "plt.plot(test,color='red',label ='max_depth')\n",
    "plt.xticks(ticks=[0,1,2,3,4,5,6,7],labels = ['30','40','50','60','70','80','90','100'])\n",
    "plt.legend()\n",
    "plt.show()"
   ]
  },
  {
   "cell_type": "markdown",
   "id": "b70e18b6-70c9-49f0-bb38-e6de44b5a5d3",
   "metadata": {},
   "source": [
    "Train the final model with the tuned parameters:"
   ]
  },
  {
   "cell_type": "code",
   "execution_count": 43,
   "id": "713ea34d-a614-4162-93f9-0f8a6b58fe88",
   "metadata": {},
   "outputs": [
    {
     "data": {
      "text/html": [
       "<style>#sk-container-id-1 {color: black;background-color: white;}#sk-container-id-1 pre{padding: 0;}#sk-container-id-1 div.sk-toggleable {background-color: white;}#sk-container-id-1 label.sk-toggleable__label {cursor: pointer;display: block;width: 100%;margin-bottom: 0;padding: 0.3em;box-sizing: border-box;text-align: center;}#sk-container-id-1 label.sk-toggleable__label-arrow:before {content: \"▸\";float: left;margin-right: 0.25em;color: #696969;}#sk-container-id-1 label.sk-toggleable__label-arrow:hover:before {color: black;}#sk-container-id-1 div.sk-estimator:hover label.sk-toggleable__label-arrow:before {color: black;}#sk-container-id-1 div.sk-toggleable__content {max-height: 0;max-width: 0;overflow: hidden;text-align: left;background-color: #f0f8ff;}#sk-container-id-1 div.sk-toggleable__content pre {margin: 0.2em;color: black;border-radius: 0.25em;background-color: #f0f8ff;}#sk-container-id-1 input.sk-toggleable__control:checked~div.sk-toggleable__content {max-height: 200px;max-width: 100%;overflow: auto;}#sk-container-id-1 input.sk-toggleable__control:checked~label.sk-toggleable__label-arrow:before {content: \"▾\";}#sk-container-id-1 div.sk-estimator input.sk-toggleable__control:checked~label.sk-toggleable__label {background-color: #d4ebff;}#sk-container-id-1 div.sk-label input.sk-toggleable__control:checked~label.sk-toggleable__label {background-color: #d4ebff;}#sk-container-id-1 input.sk-hidden--visually {border: 0;clip: rect(1px 1px 1px 1px);clip: rect(1px, 1px, 1px, 1px);height: 1px;margin: -1px;overflow: hidden;padding: 0;position: absolute;width: 1px;}#sk-container-id-1 div.sk-estimator {font-family: monospace;background-color: #f0f8ff;border: 1px dotted black;border-radius: 0.25em;box-sizing: border-box;margin-bottom: 0.5em;}#sk-container-id-1 div.sk-estimator:hover {background-color: #d4ebff;}#sk-container-id-1 div.sk-parallel-item::after {content: \"\";width: 100%;border-bottom: 1px solid gray;flex-grow: 1;}#sk-container-id-1 div.sk-label:hover label.sk-toggleable__label {background-color: #d4ebff;}#sk-container-id-1 div.sk-serial::before {content: \"\";position: absolute;border-left: 1px solid gray;box-sizing: border-box;top: 0;bottom: 0;left: 50%;z-index: 0;}#sk-container-id-1 div.sk-serial {display: flex;flex-direction: column;align-items: center;background-color: white;padding-right: 0.2em;padding-left: 0.2em;position: relative;}#sk-container-id-1 div.sk-item {position: relative;z-index: 1;}#sk-container-id-1 div.sk-parallel {display: flex;align-items: stretch;justify-content: center;background-color: white;position: relative;}#sk-container-id-1 div.sk-item::before, #sk-container-id-1 div.sk-parallel-item::before {content: \"\";position: absolute;border-left: 1px solid gray;box-sizing: border-box;top: 0;bottom: 0;left: 50%;z-index: -1;}#sk-container-id-1 div.sk-parallel-item {display: flex;flex-direction: column;z-index: 1;position: relative;background-color: white;}#sk-container-id-1 div.sk-parallel-item:first-child::after {align-self: flex-end;width: 50%;}#sk-container-id-1 div.sk-parallel-item:last-child::after {align-self: flex-start;width: 50%;}#sk-container-id-1 div.sk-parallel-item:only-child::after {width: 0;}#sk-container-id-1 div.sk-dashed-wrapped {border: 1px dashed gray;margin: 0 0.4em 0.5em 0.4em;box-sizing: border-box;padding-bottom: 0.4em;background-color: white;}#sk-container-id-1 div.sk-label label {font-family: monospace;font-weight: bold;display: inline-block;line-height: 1.2em;}#sk-container-id-1 div.sk-label-container {text-align: center;}#sk-container-id-1 div.sk-container {/* jupyter's `normalize.less` sets `[hidden] { display: none; }` but bootstrap.min.css set `[hidden] { display: none !important; }` so we also need the `!important` here to be able to override the default hidden behavior on the sphinx rendered scikit-learn.org. See: https://github.com/scikit-learn/scikit-learn/issues/21755 */display: inline-block !important;position: relative;}#sk-container-id-1 div.sk-text-repr-fallback {display: none;}</style><div id=\"sk-container-id-1\" class=\"sk-top-container\"><div class=\"sk-text-repr-fallback\"><pre>DecisionTreeClassifier(max_depth=30, min_samples_split=16, random_state=10000)</pre><b>In a Jupyter environment, please rerun this cell to show the HTML representation or trust the notebook. <br />On GitHub, the HTML representation is unable to render, please try loading this page with nbviewer.org.</b></div><div class=\"sk-container\" hidden><div class=\"sk-item\"><div class=\"sk-estimator sk-toggleable\"><input class=\"sk-toggleable__control sk-hidden--visually\" id=\"sk-estimator-id-1\" type=\"checkbox\" checked><label for=\"sk-estimator-id-1\" class=\"sk-toggleable__label sk-toggleable__label-arrow\">DecisionTreeClassifier</label><div class=\"sk-toggleable__content\"><pre>DecisionTreeClassifier(max_depth=30, min_samples_split=16, random_state=10000)</pre></div></div></div></div></div>"
      ],
      "text/plain": [
       "DecisionTreeClassifier(max_depth=30, min_samples_split=16, random_state=10000)"
      ]
     },
     "execution_count": 43,
     "metadata": {},
     "output_type": "execute_result"
    }
   ],
   "source": [
    "decision_tree =DecisionTreeClassifier(max_depth=clf_1.best_params_['max_depth'], min_samples_split=clf_1.best_params_['min_samples_split'], random_state=randomState_dt)\n",
    "decision_tree.fit(train_x, train_y)"
   ]
  },
  {
   "cell_type": "code",
   "execution_count": 44,
   "id": "0ba81961-02ca-4a16-8146-2a339768ab6b",
   "metadata": {},
   "outputs": [
    {
     "name": "stdout",
     "output_type": "stream",
     "text": [
      "Score on the training data:\n",
      "0.9210759157671209\n",
      "Score on the testing data:\n",
      "0.8272063702720637\n"
     ]
    }
   ],
   "source": [
    "print(\"Score on the training data:\")\n",
    "print(decision_tree.score(train_x, train_y))\n",
    "print(\"Score on the testing data:\")\n",
    "print(decision_tree.score(test_x, test_y))"
   ]
  },
  {
   "cell_type": "markdown",
   "id": "1f4f928d-7d90-4659-8739-9a95127dc5e9",
   "metadata": {},
   "source": [
    "For demonstration, the structure of this tree is output by setting the maximum depth to be 3:"
   ]
  },
  {
   "cell_type": "code",
   "execution_count": 45,
   "id": "930ebb58-1d85-4eb0-8a46-3b330d846f56",
   "metadata": {},
   "outputs": [
    {
     "data": {
      "image/png": "[encoded data removed]",
      "text/plain": [
       "<Figure size 2880x1440 with 1 Axes>"
      ]
     },
     "metadata": {
      "needs_background": "light"
     },
     "output_type": "display_data"
    }
   ],
   "source": [
    "decision_tree_plot = DecisionTreeClassifier(max_depth=3)\n",
    "decision_tree_plot.fit(train_x, train_y)\n",
    "plt.figure(figsize=(40,20))\n",
    "\n",
    "_ = tree.plot_tree(decision_tree_plot, feature_names = vec.feature_names_)\n",
    "plt.show()"
   ]
  },
  {
   "cell_type": "markdown",
   "id": "17ef4b90-b5aa-4e73-afcd-3832611d8bac",
   "metadata": {},
   "source": [
    "The plot shows the feature importance:"
   ]
  },
  {
   "cell_type": "code",
   "execution_count": 46,
   "id": "42381ea2-5e5c-4a05-a8de-2aabc9e5ab4f",
   "metadata": {},
   "outputs": [
    {
     "data": {
      "image/png": "[encoded data removed]",
      "text/plain": [
       "<Figure size 432x288 with 1 Axes>"
      ]
     },
     "metadata": {
      "needs_background": "light"
     },
     "output_type": "display_data"
    }
   ],
   "source": [
    "plt.barh(range(X.shape[1]), clf.feature_importances_, align='center')\n",
    "    \n",
    "plt.yticks((0,1,2,3,4,5,6,7,8,9,10,11,12,13), vec.feature_names_)\n",
    "plt.xlabel('Feature importance')\n",
    "plt.ylabel('Feature')\n",
    "plt.show()"
   ]
  },
  {
   "cell_type": "markdown",
   "id": "2bec49e0-0849-46e6-bd10-3f643f24ab2f",
   "metadata": {},
   "source": [
    "## Random Forest"
   ]
  },
  {
   "cell_type": "markdown",
   "id": "08049b54-e6cc-47ed-8ad9-4aed4b651035",
   "metadata": {},
   "source": [
    "Building the random forest model by using the default hyperparameters, as tuning them is too time-consuming in this case:"
   ]
  },
  {
   "cell_type": "code",
   "execution_count": 47,
   "id": "597d404a-5afb-4126-8e35-bc3092a41fd1",
   "metadata": {},
   "outputs": [
    {
     "name": "stdout",
     "output_type": "stream",
     "text": [
      "Accuracy on training set: 1.000\n",
      "Accuracy on test set: 0.854\n"
     ]
    }
   ],
   "source": [
    "forest = RandomForestClassifier(n_estimators=100, random_state=0)    \n",
    "forest.fit(train_x, train_y) \n",
    "print('Accuracy on training set: {:.3f}'.format(forest.score(train_x, train_y)))\n",
    "print('Accuracy on test set: {:.3f}'.format(forest.score(test_x,test_y)))       "
   ]
  },
  {
   "cell_type": "markdown",
   "id": "45668d72-2da0-44db-b6d2-79d78a6e9fd4",
   "metadata": {},
   "source": [
    "The score on the testing data is lower than that on the training data, suggesting overfitting problem. "
   ]
  },
  {
   "cell_type": "markdown",
   "id": "5ce480b1-6a13-4686-acd5-f8c0fa1496dc",
   "metadata": {},
   "source": [
    "Here is the feature importance of this model:"
   ]
  },
  {
   "cell_type": "code",
   "execution_count": 48,
   "id": "cc020f85-ad40-439c-a0fa-ba1760ef5648",
   "metadata": {},
   "outputs": [
    {
     "data": {
      "image/png": "[encoded data removed]",
      "text/plain": [
       "<Figure size 432x288 with 1 Axes>"
      ]
     },
     "metadata": {
      "needs_background": "light"
     },
     "output_type": "display_data"
    }
   ],
   "source": [
    "plt.barh(range(X.shape[1]), forest.feature_importances_, align='center')\n",
    "    \n",
    "plt.yticks((0,1,2,3,4,5,6,7,8,9,10,11,12,13), vec.feature_names_)\n",
    "plt.xlabel('Feature importance')\n",
    "plt.ylabel('Feature')\n",
    "plt.show()"
   ]
  },
  {
   "cell_type": "markdown",
   "id": "7f5a3d6e-4316-414d-bcb6-40bc2fa6e0ce",
   "metadata": {
    "tags": []
   },
   "source": [
    "# Results and discussion"
   ]
  },
  {
   "cell_type": "markdown",
   "id": "2b585fee-028c-4354-b8bc-0479a4017f22",
   "metadata": {},
   "source": [
    "In logistic regression, the confusion matrix shows that 21295 smaples are correctly predicted as type 0, which is <50k, and 3397 samples are correctly predicted as type 1, which is >=50k. From this result, it suggests the model acuracy is higher when the actual outcome is 0, but much lower when the actual outcome is 1, in which case the number of mistakenly predicted samples is even greater than the correct ones. Therefore, it is essential to build more advanced machine learning models to get a more precise classification. "
   ]
  },
  {
   "cell_type": "markdown",
   "id": "060a47b1-0d29-46bc-91ca-61f6bf6462f2",
   "metadata": {},
   "source": [
    "The accuracy of the logistic regression model is 0.8192, and the score on the training data and testing data of decesion tree model and random forest model is listed in the following table. By comparison, the score of random forest model is higher than the other models, but the difference in R<sup>2</sup> between training data and testing data of decision tree model is lower. It suggests that decision tree model has a better chance in mitigating overfitting problem."
   ]
  },
  {
   "cell_type": "code",
   "execution_count": 49,
   "id": "aeee004f-7c8e-440e-a3c3-3decb807e411",
   "metadata": {},
   "outputs": [
    {
     "data": {
      "text/html": [
       "<div>\n",
       "<style scoped>\n",
       "    .dataframe tbody tr th:only-of-type {\n",
       "        vertical-align: middle;\n",
       "    }\n",
       "\n",
       "    .dataframe tbody tr th {\n",
       "        vertical-align: top;\n",
       "    }\n",
       "\n",
       "    .dataframe thead th {\n",
       "        text-align: right;\n",
       "    }\n",
       "</style>\n",
       "<table border=\"1\" class=\"dataframe\">\n",
       "  <thead>\n",
       "    <tr style=\"text-align: right;\">\n",
       "      <th></th>\n",
       "      <th>R2_train_data</th>\n",
       "      <th>R2_test_data</th>\n",
       "      <th>R2_diff</th>\n",
       "    </tr>\n",
       "  </thead>\n",
       "  <tbody>\n",
       "    <tr>\n",
       "      <th>Decision Tree</th>\n",
       "      <td>0.9211</td>\n",
       "      <td>0.8272</td>\n",
       "      <td>0.0939</td>\n",
       "    </tr>\n",
       "    <tr>\n",
       "      <th>Random Forest</th>\n",
       "      <td>1.0000</td>\n",
       "      <td>0.8543</td>\n",
       "      <td>0.1457</td>\n",
       "    </tr>\n",
       "  </tbody>\n",
       "</table>\n",
       "</div>"
      ],
      "text/plain": [
       "                                         R2_train_data  \\\n",
       "Decision Tree                                   0.9211   \n",
       "Random Forest                                   1.0000   \n",
       "\n",
       "                                          R2_test_data  \\\n",
       "Decision Tree                                   0.8272   \n",
       "Random Forest                                   0.8543   \n",
       "\n",
       "                                               R2_diff  \n",
       "Decision Tree                                   0.0939  \n",
       "Random Forest                                   0.1457  "
      ]
     },
     "execution_count": 49,
     "metadata": {},
     "output_type": "execute_result"
    }
   ],
   "source": [
    "# create a list of models\n",
    "list_name_models = ['Decision Tree', 'Random Forest']\n",
    "# use the models from above\n",
    "list_reg_models = [decision_tree, forest]\n",
    "\n",
    "dict_models = dict()\n",
    "\n",
    "for name, model in zip(list_name_models, list_reg_models):\n",
    "    dict_models[name] = [model.score(train_x, train_y), model.score(test_x, test_y), model.score(train_x, train_y) - model.score(test_x, test_y)]\n",
    "\n",
    "# transform dict_models to dataframe\n",
    "df_models = pd.DataFrame.from_dict(dict_models, orient='index', columns=['R2_train_data', 'R2_test_data', 'R2_diff'])\n",
    "df_models"
   ]
  },
  {
   "cell_type": "markdown",
   "id": "652c028b-50fb-4267-9772-b475239480da",
   "metadata": {},
   "source": [
    "Regarding the feature importance, the top three important variables in logisitic regression model are capital_gain, edu_num and sex. In decision tree model, the top three are relationship, fnlweight and age. In random forest model, these are fnlweight, age and capital_gain. These results show they have a greater impact on income, especially age."
   ]
  },
  {
   "cell_type": "markdown",
   "id": "f1f0311a-e9c4-427d-935f-7867e5f65b11",
   "metadata": {},
   "source": [
    "The overall result is that the decision tree model and random forest model perform better than logistic regression, with relationship, fnlweight, capital gain and age to be the most influential factors on income."
   ]
  },
  {
   "cell_type": "markdown",
   "id": "78bcfa05-55a2-4e83-80da-01fcb076d2fd",
   "metadata": {},
   "source": [
    "There are several limitations of this research:\n",
    "1. Outliers were not handled. Logistic regression is sensitive to outliers, so removing them may improve the performance;\n",
    "2. Even though the decision tree model has the smallest difference in R<sup>2</sup>, it still has overfitting problem;\n",
    "3. The hyperparameters of the random forest model were not tuned as in the decision tree model. Tuning the hyperparameters may improve the performance score of this model."
   ]
  },
  {
   "cell_type": "markdown",
   "id": "d09411ec-f179-406f-b15f-4bd0f25628a0",
   "metadata": {},
   "source": [
    "# Conclusion"
   ]
  },
  {
   "cell_type": "markdown",
   "id": "55852194-5d97-452f-ab7a-f2d937ce34e7",
   "metadata": {},
   "source": [
    "After conducting the whole research process, the research question can be answered: it is possible to use machine learning to predict one's income level using their demographic and employment information. Three machine learning models are used: logistic regression, decision tree classifier, and random forest classifier, with score up to 0.85. Among the attributes, age, capital gain, fnlweight, relationship, number of years of education, and sex have greater impact on one's income. Therefore, government or companies who need to have a general understanding of people's income level can pay more attention to these attributes, and use machine learning models to make predictions after gaining ethical approval."
   ]
  },
  {
   "cell_type": "code",
   "execution_count": 50,
   "id": "ff8323c9-044b-4305-b5bf-322724895fdf",
   "metadata": {},
   "outputs": [
    {
     "name": "stdout",
     "output_type": "stream",
     "text": [
      "Total running time:  106.84555101394653 seconds\n"
     ]
    }
   ],
   "source": [
    "end_time = time.time()\n",
    "run_time = end_time - start_time\n",
    "print(\"Total running time: \", run_time, \"seconds\")"
   ]
  },
  {
   "cell_type": "markdown",
   "id": "3e2204b8-369a-4d02-9ac1-2189913da906",
   "metadata": {},
   "source": [
    "word count: 1691"
   ]
  },
  {
   "cell_type": "markdown",
   "id": "9f370c06-e824-4a6a-8b5c-f282028772b0",
   "metadata": {},
   "source": [
    "# References"
   ]
  },
  {
   "cell_type": "markdown",
   "id": "c58fc539-22fc-403a-87cc-b5550e5ff944",
   "metadata": {},
   "source": [
    "Hasanuzzaman M, Kamila S, Kaur M, Saha S, and Ekbal A (2017). Temporal Orientation of Tweets for Predicting Income of Users. In Proceedings of the 55th Annual Meeting of the Association for Computational Linguistics, 2,659–665."
   ]
  },
  {
   "cell_type": "markdown",
   "id": "3c132e50-efbc-4516-9197-8838356874c0",
   "metadata": {},
   "source": [
    "Kohavi,Ron. (1996). Census Income. UCI Machine Learning Repository. https://doi.org/10.24432/C5S595."
   ]
  },
  {
   "cell_type": "markdown",
   "id": "4c06a79b-2f00-4fcf-a818-2f95efed6833",
   "metadata": {},
   "source": [
    "Matz SC, Menges JI, Stillwell DJ, Schwartz HA (2019) Predicting individual-level income from Facebook profiles. PLoS ONE 14(3): e0214369. https://doi.org/10.1371/journal.pone.0214369"
   ]
  },
  {
   "cell_type": "markdown",
   "id": "10687ff2-4e23-417f-905c-3f94900b517c",
   "metadata": {},
   "source": [
    "Yarnold, P. R. (2019). Regression vs. novometric analysis predicting income based on education. Optimal Data Analysis, 8, 81-83."
   ]
  }
 ],
 "metadata": {
  "kernelspec": {
   "display_name": "Python 3 (ipykernel)",
   "language": "python",
   "name": "python3"
  },
  "language_info": {
   "codemirror_mode": {
    "name": "ipython",
    "version": 3
   },
   "file_extension": ".py",
   "mimetype": "text/x-python",
   "name": "python",
   "nbconvert_exporter": "python",
   "pygments_lexer": "ipython3",
   "version": "3.10.5"
  }
 },
 "nbformat": 4,
 "nbformat_minor": 5
}
