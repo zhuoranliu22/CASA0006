{
 "cells": [
  {
   "cell_type": "code",
   "execution_count": 1,
   "id": "e5342cee-2b4f-4eb7-9c3c-7e05a0d691d3",
   "metadata": {},
   "outputs": [],
   "source": [
    "import time\n",
    "start_time = time.time()"
   ]
  },
  {
   "cell_type": "code",
   "execution_count": 2,
   "id": "6d642e79-a506-43b4-9dff-500fe453a765",
   "metadata": {},
   "outputs": [
    {
     "name": "stderr",
     "output_type": "stream",
     "text": [
      "<jemalloc>: MADV_DONTNEED does not work (memset will be used instead)\n",
      "<jemalloc>: (This is the expected behaviour if you are running under QEMU)\n"
     ]
    },
    {
     "data": {
      "text/html": [
       "        <script type=\"text/javascript\">\n",
       "        window.PlotlyConfig = {MathJaxConfig: 'local'};\n",
       "        if (window.MathJax && window.MathJax.Hub && window.MathJax.Hub.Config) {window.MathJax.Hub.Config({SVG: {font: \"STIX-Web\"}});}\n",
       "        if (typeof require !== 'undefined') {\n",
       "        require.undef(\"plotly\");\n",
       "        requirejs.config({\n",
       "            paths: {\n",
       "                'plotly': ['https://cdn.plot.ly/plotly-2.16.1.min']\n",
       "            }\n",
       "        });\n",
       "        require(['plotly'], function(Plotly) {\n",
       "            window._Plotly = Plotly;\n",
       "        });\n",
       "        }\n",
       "        </script>\n",
       "        "
      ]
     },
     "metadata": {},
     "output_type": "display_data"
    }
   ],
   "source": [
    "import pandas as pd\n",
    "pd.set_option('display.max_rows', 200)\n",
    "from matplotlib import pyplot\n",
    "import matplotlib.pyplot as plt\n",
    "import numpy as np\n",
    "from plotly.offline import download_plotlyjs,init_notebook_mode,plot,iplot\n",
    "init_notebook_mode(connected=True)\n",
    "import plotly.graph_objs as go\n",
    "import sklearn\n",
    "from sklearn.model_selection import train_test_split, GridSearchCV, validation_curve\n",
    "from sklearn.metrics import mean_squared_error, r2_score\n",
    "from sklearn.preprocessing import StandardScaler, OneHotEncoder\n",
    "from sklearn.impute import SimpleImputer\n",
    "from sklearn.compose import ColumnTransformer\n",
    "from sklearn.pipeline import Pipeline\n",
    "from sklearn.linear_model import LinearRegression\n",
    "from sklearn.tree import DecisionTreeRegressor\n",
    "from sklearn import metrics\n",
    "pd.options.display.float_format = '{:40,.4f}'.format\n",
    "plt.style.use('ggplot') \n",
    "%matplotlib inline"
   ]
  },
  {
   "cell_type": "code",
   "execution_count": 28,
   "id": "a411a742-9d79-4448-bec1-7c6b3fd4d675",
   "metadata": {},
   "outputs": [
    {
     "data": {
      "text/html": [
       "<div>\n",
       "<style scoped>\n",
       "    .dataframe tbody tr th:only-of-type {\n",
       "        vertical-align: middle;\n",
       "    }\n",
       "\n",
       "    .dataframe tbody tr th {\n",
       "        vertical-align: top;\n",
       "    }\n",
       "\n",
       "    .dataframe thead th {\n",
       "        text-align: right;\n",
       "    }\n",
       "</style>\n",
       "<table border=\"1\" class=\"dataframe\">\n",
       "  <thead>\n",
       "    <tr style=\"text-align: right;\">\n",
       "      <th></th>\n",
       "      <th>holiday</th>\n",
       "      <th>temp</th>\n",
       "      <th>rain_1h</th>\n",
       "      <th>snow_1h</th>\n",
       "      <th>clouds_all</th>\n",
       "      <th>weather_main</th>\n",
       "      <th>weather_description</th>\n",
       "      <th>date_time</th>\n",
       "      <th>traffic_volume</th>\n",
       "    </tr>\n",
       "  </thead>\n",
       "  <tbody>\n",
       "    <tr>\n",
       "      <th>0</th>\n",
       "      <td>None</td>\n",
       "      <td>288.2800</td>\n",
       "      <td>0.0000</td>\n",
       "      <td>0.0000</td>\n",
       "      <td>40</td>\n",
       "      <td>Clouds</td>\n",
       "      <td>scattered clouds</td>\n",
       "      <td>2012-10-02 09:00:00</td>\n",
       "      <td>5545</td>\n",
       "    </tr>\n",
       "    <tr>\n",
       "      <th>1</th>\n",
       "      <td>None</td>\n",
       "      <td>289.3600</td>\n",
       "      <td>0.0000</td>\n",
       "      <td>0.0000</td>\n",
       "      <td>75</td>\n",
       "      <td>Clouds</td>\n",
       "      <td>broken clouds</td>\n",
       "      <td>2012-10-02 10:00:00</td>\n",
       "      <td>4516</td>\n",
       "    </tr>\n",
       "    <tr>\n",
       "      <th>2</th>\n",
       "      <td>None</td>\n",
       "      <td>289.5800</td>\n",
       "      <td>0.0000</td>\n",
       "      <td>0.0000</td>\n",
       "      <td>90</td>\n",
       "      <td>Clouds</td>\n",
       "      <td>overcast clouds</td>\n",
       "      <td>2012-10-02 11:00:00</td>\n",
       "      <td>4767</td>\n",
       "    </tr>\n",
       "    <tr>\n",
       "      <th>3</th>\n",
       "      <td>None</td>\n",
       "      <td>290.1300</td>\n",
       "      <td>0.0000</td>\n",
       "      <td>0.0000</td>\n",
       "      <td>90</td>\n",
       "      <td>Clouds</td>\n",
       "      <td>overcast clouds</td>\n",
       "      <td>2012-10-02 12:00:00</td>\n",
       "      <td>5026</td>\n",
       "    </tr>\n",
       "    <tr>\n",
       "      <th>4</th>\n",
       "      <td>None</td>\n",
       "      <td>291.1400</td>\n",
       "      <td>0.0000</td>\n",
       "      <td>0.0000</td>\n",
       "      <td>75</td>\n",
       "      <td>Clouds</td>\n",
       "      <td>broken clouds</td>\n",
       "      <td>2012-10-02 13:00:00</td>\n",
       "      <td>4918</td>\n",
       "    </tr>\n",
       "  </tbody>\n",
       "</table>\n",
       "</div>"
      ],
      "text/plain": [
       "  holiday                                     temp  \\\n",
       "0    None                                 288.2800   \n",
       "1    None                                 289.3600   \n",
       "2    None                                 289.5800   \n",
       "3    None                                 290.1300   \n",
       "4    None                                 291.1400   \n",
       "\n",
       "                                   rain_1h  \\\n",
       "0                                   0.0000   \n",
       "1                                   0.0000   \n",
       "2                                   0.0000   \n",
       "3                                   0.0000   \n",
       "4                                   0.0000   \n",
       "\n",
       "                                   snow_1h  clouds_all weather_main  \\\n",
       "0                                   0.0000          40       Clouds   \n",
       "1                                   0.0000          75       Clouds   \n",
       "2                                   0.0000          90       Clouds   \n",
       "3                                   0.0000          90       Clouds   \n",
       "4                                   0.0000          75       Clouds   \n",
       "\n",
       "  weather_description            date_time  traffic_volume  \n",
       "0    scattered clouds  2012-10-02 09:00:00            5545  \n",
       "1       broken clouds  2012-10-02 10:00:00            4516  \n",
       "2     overcast clouds  2012-10-02 11:00:00            4767  \n",
       "3     overcast clouds  2012-10-02 12:00:00            5026  \n",
       "4       broken clouds  2012-10-02 13:00:00            4918  "
      ]
     },
     "execution_count": 28,
     "metadata": {},
     "output_type": "execute_result"
    }
   ],
   "source": [
    "data = pd.read_csv('https://raw.githubusercontent.com/zhuoranliu22/CASA0006/main/Metro_Interstate_Traffic_Volume.csv')\n",
    "data.head()"
   ]
  },
  {
   "cell_type": "markdown",
   "id": "ffbd16d5-7842-450b-b45d-94bdb1d90fb1",
   "metadata": {},
   "source": [
    "holiday Categorical US National holidays plus regional holiday, Minnesota State Fair\n",
    "\n",
    "temp Numeric Average temp in kelvin\n",
    "\n",
    "rain_1h Numeric Amount in mm of rain that occurred in the hour\n",
    "\n",
    "snow_1h Numeric Amount in mm of snow that occurred in the hour\n",
    "\n",
    "clouds_all Numeric Percentage of cloud cover\n",
    "\n",
    "weather_main Categorical Short textual description of the current weather\n",
    "\n",
    "weather_description Categorical Longer textual description of the current weather\n",
    "\n",
    "date_time DateTime Hour of the data collected in local CST time\n",
    "\n",
    "traffic_volume Numeric Hourly I-94 ATR 301 reported westbound traffic volume"
   ]
  },
  {
   "cell_type": "code",
   "execution_count": 29,
   "id": "32eef65e-1fd7-4987-9aa9-083b458c1404",
   "metadata": {},
   "outputs": [
    {
     "data": {
      "text/html": [
       "<div>\n",
       "<style scoped>\n",
       "    .dataframe tbody tr th:only-of-type {\n",
       "        vertical-align: middle;\n",
       "    }\n",
       "\n",
       "    .dataframe tbody tr th {\n",
       "        vertical-align: top;\n",
       "    }\n",
       "\n",
       "    .dataframe thead th {\n",
       "        text-align: right;\n",
       "    }\n",
       "</style>\n",
       "<table border=\"1\" class=\"dataframe\">\n",
       "  <thead>\n",
       "    <tr style=\"text-align: right;\">\n",
       "      <th></th>\n",
       "      <th>holiday</th>\n",
       "      <th>temp</th>\n",
       "      <th>rain_1h</th>\n",
       "      <th>snow_1h</th>\n",
       "      <th>clouds_all</th>\n",
       "      <th>weather_main</th>\n",
       "      <th>weather_description</th>\n",
       "      <th>date_time</th>\n",
       "      <th>traffic_volume</th>\n",
       "    </tr>\n",
       "  </thead>\n",
       "  <tbody>\n",
       "    <tr>\n",
       "      <th>0</th>\n",
       "      <td>None</td>\n",
       "      <td>288.2800</td>\n",
       "      <td>0.0000</td>\n",
       "      <td>0.0000</td>\n",
       "      <td>40</td>\n",
       "      <td>Clouds</td>\n",
       "      <td>scattered clouds</td>\n",
       "      <td>2012-10-02 09:00:00</td>\n",
       "      <td>5545</td>\n",
       "    </tr>\n",
       "    <tr>\n",
       "      <th>1</th>\n",
       "      <td>None</td>\n",
       "      <td>289.3600</td>\n",
       "      <td>0.0000</td>\n",
       "      <td>0.0000</td>\n",
       "      <td>75</td>\n",
       "      <td>Clouds</td>\n",
       "      <td>broken clouds</td>\n",
       "      <td>2012-10-02 10:00:00</td>\n",
       "      <td>4516</td>\n",
       "    </tr>\n",
       "    <tr>\n",
       "      <th>2</th>\n",
       "      <td>None</td>\n",
       "      <td>289.5800</td>\n",
       "      <td>0.0000</td>\n",
       "      <td>0.0000</td>\n",
       "      <td>90</td>\n",
       "      <td>Clouds</td>\n",
       "      <td>overcast clouds</td>\n",
       "      <td>2012-10-02 11:00:00</td>\n",
       "      <td>4767</td>\n",
       "    </tr>\n",
       "    <tr>\n",
       "      <th>3</th>\n",
       "      <td>None</td>\n",
       "      <td>290.1300</td>\n",
       "      <td>0.0000</td>\n",
       "      <td>0.0000</td>\n",
       "      <td>90</td>\n",
       "      <td>Clouds</td>\n",
       "      <td>overcast clouds</td>\n",
       "      <td>2012-10-02 12:00:00</td>\n",
       "      <td>5026</td>\n",
       "    </tr>\n",
       "    <tr>\n",
       "      <th>4</th>\n",
       "      <td>None</td>\n",
       "      <td>291.1400</td>\n",
       "      <td>0.0000</td>\n",
       "      <td>0.0000</td>\n",
       "      <td>75</td>\n",
       "      <td>Clouds</td>\n",
       "      <td>broken clouds</td>\n",
       "      <td>2012-10-02 13:00:00</td>\n",
       "      <td>4918</td>\n",
       "    </tr>\n",
       "  </tbody>\n",
       "</table>\n",
       "</div>"
      ],
      "text/plain": [
       "  holiday                                     temp  \\\n",
       "0    None                                 288.2800   \n",
       "1    None                                 289.3600   \n",
       "2    None                                 289.5800   \n",
       "3    None                                 290.1300   \n",
       "4    None                                 291.1400   \n",
       "\n",
       "                                   rain_1h  \\\n",
       "0                                   0.0000   \n",
       "1                                   0.0000   \n",
       "2                                   0.0000   \n",
       "3                                   0.0000   \n",
       "4                                   0.0000   \n",
       "\n",
       "                                   snow_1h  clouds_all weather_main  \\\n",
       "0                                   0.0000          40       Clouds   \n",
       "1                                   0.0000          75       Clouds   \n",
       "2                                   0.0000          90       Clouds   \n",
       "3                                   0.0000          90       Clouds   \n",
       "4                                   0.0000          75       Clouds   \n",
       "\n",
       "  weather_description            date_time  traffic_volume  \n",
       "0    scattered clouds  2012-10-02 09:00:00            5545  \n",
       "1       broken clouds  2012-10-02 10:00:00            4516  \n",
       "2     overcast clouds  2012-10-02 11:00:00            4767  \n",
       "3     overcast clouds  2012-10-02 12:00:00            5026  \n",
       "4       broken clouds  2012-10-02 13:00:00            4918  "
      ]
     },
     "execution_count": 29,
     "metadata": {},
     "output_type": "execute_result"
    }
   ],
   "source": [
    "data.head()"
   ]
  },
  {
   "cell_type": "code",
   "execution_count": 30,
   "id": "a7999841-24ed-46ea-a2e3-203fcc2045e3",
   "metadata": {},
   "outputs": [
    {
     "name": "stdout",
     "output_type": "stream",
     "text": [
      "<class 'pandas.core.frame.DataFrame'>\n",
      "RangeIndex: 48204 entries, 0 to 48203\n",
      "Data columns (total 9 columns):\n",
      " #   Column               Non-Null Count  Dtype  \n",
      "---  ------               --------------  -----  \n",
      " 0   holiday              48204 non-null  object \n",
      " 1   temp                 48204 non-null  float64\n",
      " 2   rain_1h              48204 non-null  float64\n",
      " 3   snow_1h              48204 non-null  float64\n",
      " 4   clouds_all           48204 non-null  int64  \n",
      " 5   weather_main         48204 non-null  object \n",
      " 6   weather_description  48204 non-null  object \n",
      " 7   date_time            48204 non-null  object \n",
      " 8   traffic_volume       48204 non-null  int64  \n",
      "dtypes: float64(3), int64(2), object(4)\n",
      "memory usage: 3.3+ MB\n"
     ]
    }
   ],
   "source": [
    "data.info()"
   ]
  },
  {
   "cell_type": "code",
   "execution_count": 31,
   "id": "fea5e251-6608-4d73-b8fd-b06104e55a88",
   "metadata": {},
   "outputs": [
    {
     "data": {
      "text/plain": [
       "holiday                0\n",
       "temp                   0\n",
       "rain_1h                0\n",
       "snow_1h                0\n",
       "clouds_all             0\n",
       "weather_main           0\n",
       "weather_description    0\n",
       "date_time              0\n",
       "traffic_volume         0\n",
       "dtype: int64"
      ]
     },
     "execution_count": 31,
     "metadata": {},
     "output_type": "execute_result"
    }
   ],
   "source": [
    "data.isnull().sum()"
   ]
  },
  {
   "cell_type": "code",
   "execution_count": 34,
   "id": "4405187c-866a-441a-bd97-040816b7bbad",
   "metadata": {},
   "outputs": [],
   "source": [
    "# x1=data['temp']\n",
    "# x2=data['rain_1h']\n",
    "# x3=data['snow_1h']\n",
    "# x4=data['clouds_all']\n",
    "# y=data['traffic_volume']"
   ]
  },
  {
   "cell_type": "code",
   "execution_count": 35,
   "id": "82fbb214-6acc-4e95-bb38-89f1747d1403",
   "metadata": {},
   "outputs": [
    {
     "data": {
      "text/plain": [
       "Text(0, 0.5, 'traffic_volume')"
      ]
     },
     "execution_count": 35,
     "metadata": {},
     "output_type": "execute_result"
    },
    {
     "data": {
      "image/png": "[encoded data removed]",
      "text/plain": [
       "<Figure size 432x288 with 1 Axes>"
      ]
     },
     "metadata": {
      "needs_background": "light"
     },
     "output_type": "display_data"
    }
   ],
   "source": [
    "# plt.plot(x1, y, label='temp')\n",
    "# plt.xlabel('temperature')\n",
    "# plt.ylabel(\"traffic_volume\")"
   ]
  },
  {
   "cell_type": "code",
   "execution_count": 21,
   "id": "ad8e8359-28c6-4750-8b3c-4c22044f20dd",
   "metadata": {},
   "outputs": [
    {
     "data": {
      "text/plain": [
       "count     48204\n",
       "unique       12\n",
       "top        None\n",
       "freq      48143\n",
       "Name: holiday, dtype: object"
      ]
     },
     "execution_count": 21,
     "metadata": {},
     "output_type": "execute_result"
    }
   ],
   "source": [
    "data['holiday'].describe()"
   ]
  },
  {
   "cell_type": "code",
   "execution_count": 22,
   "id": "257e4c59-e939-4819-acc9-0acdf29b126d",
   "metadata": {},
   "outputs": [
    {
     "data": {
      "text/plain": [
       "count                                48,204.0000\n",
       "mean                                    281.2059\n",
       "std                                      13.3382\n",
       "min                                       0.0000\n",
       "25%                                     272.1600\n",
       "50%                                     282.4500\n",
       "75%                                     291.8060\n",
       "max                                     310.0700\n",
       "Name: temp, dtype: float64"
      ]
     },
     "execution_count": 22,
     "metadata": {},
     "output_type": "execute_result"
    }
   ],
   "source": [
    "data['temp'].describe()"
   ]
  },
  {
   "cell_type": "code",
   "execution_count": 39,
   "id": "53a14f55-458c-4016-b7f1-05ec1bcb57c9",
   "metadata": {},
   "outputs": [],
   "source": [
    "data = data[data['temp']!=0]"
   ]
  },
  {
   "cell_type": "code",
   "execution_count": 23,
   "id": "6b8584cd-dfff-4f09-b379-d0d0c4ebe0dc",
   "metadata": {},
   "outputs": [
    {
     "data": {
      "text/plain": [
       "count                                48,204.0000\n",
       "mean                                      0.3343\n",
       "std                                      44.7891\n",
       "min                                       0.0000\n",
       "25%                                       0.0000\n",
       "50%                                       0.0000\n",
       "75%                                       0.0000\n",
       "max                                   9,831.3000\n",
       "Name: rain_1h, dtype: float64"
      ]
     },
     "execution_count": 23,
     "metadata": {},
     "output_type": "execute_result"
    }
   ],
   "source": [
    "data['rain_1h'].describe()"
   ]
  },
  {
   "cell_type": "code",
   "execution_count": 24,
   "id": "757f150a-c304-49dd-a7c4-9ca958f5d584",
   "metadata": {},
   "outputs": [
    {
     "data": {
      "text/plain": [
       "count                                48,204.0000\n",
       "mean                                      0.0002\n",
       "std                                       0.0082\n",
       "min                                       0.0000\n",
       "25%                                       0.0000\n",
       "50%                                       0.0000\n",
       "75%                                       0.0000\n",
       "max                                       0.5100\n",
       "Name: snow_1h, dtype: float64"
      ]
     },
     "execution_count": 24,
     "metadata": {},
     "output_type": "execute_result"
    }
   ],
   "source": [
    "data['snow_1h'].describe()"
   ]
  },
  {
   "cell_type": "code",
   "execution_count": 25,
   "id": "a08d686c-5dc4-48e2-bd6c-3c7a7d5b7fd7",
   "metadata": {},
   "outputs": [
    {
     "data": {
      "text/plain": [
       "count                                48,204.0000\n",
       "mean                                     49.3622\n",
       "std                                      39.0158\n",
       "min                                       0.0000\n",
       "25%                                       1.0000\n",
       "50%                                      64.0000\n",
       "75%                                      90.0000\n",
       "max                                     100.0000\n",
       "Name: clouds_all, dtype: float64"
      ]
     },
     "execution_count": 25,
     "metadata": {},
     "output_type": "execute_result"
    }
   ],
   "source": [
    "data['clouds_all'].describe()"
   ]
  },
  {
   "cell_type": "code",
   "execution_count": 26,
   "id": "0d945cbc-0589-4cce-b243-2ab544226281",
   "metadata": {},
   "outputs": [
    {
     "data": {
      "text/plain": [
       "count      48204\n",
       "unique        11\n",
       "top       Clouds\n",
       "freq       15164\n",
       "Name: weather_main, dtype: object"
      ]
     },
     "execution_count": 26,
     "metadata": {},
     "output_type": "execute_result"
    }
   ],
   "source": [
    "data['weather_main'].describe()"
   ]
  },
  {
   "cell_type": "code",
   "execution_count": 27,
   "id": "b713dcbb-d345-4e84-8222-439f425fc9be",
   "metadata": {},
   "outputs": [
    {
     "data": {
      "text/plain": [
       "count                                48,204.0000\n",
       "mean                                  3,259.8184\n",
       "std                                   1,986.8607\n",
       "min                                       0.0000\n",
       "25%                                   1,193.0000\n",
       "50%                                   3,380.0000\n",
       "75%                                   4,933.0000\n",
       "max                                   7,280.0000\n",
       "Name: traffic_volume, dtype: float64"
      ]
     },
     "execution_count": 27,
     "metadata": {},
     "output_type": "execute_result"
    }
   ],
   "source": [
    "data['traffic_volume'].describe()"
   ]
  },
  {
   "cell_type": "code",
   "execution_count": 43,
   "id": "daf23ea8-d1f5-4736-bdfa-78ad3235db00",
   "metadata": {},
   "outputs": [
    {
     "name": "stdout",
     "output_type": "stream",
     "text": [
      "      holiday                                     temp  \\\n",
      "25186    None                                 296.6800   \n",
      "25191    None                                 295.9000   \n",
      "\n",
      "                                       rain_1h  \\\n",
      "25186                                   0.0000   \n",
      "25191                                   0.0000   \n",
      "\n",
      "                                       snow_1h  clouds_all weather_main  \\\n",
      "25186                                   0.0000          40         Rain   \n",
      "25191                                   0.0000          90         Haze   \n",
      "\n",
      "      weather_description            date_time  traffic_volume  \n",
      "25186          light rain  2016-07-23 18:00:00               0  \n",
      "25191                haze  2016-07-23 23:00:00               0  \n"
     ]
    }
   ],
   "source": [
    "df = data.loc[(data['traffic_volume']==0)]\n",
    "print(df)"
   ]
  },
  {
   "cell_type": "markdown",
   "id": "03c5c9d6-391f-4f2d-bbfd-3f0bb7af04b1",
   "metadata": {},
   "source": []
  },
  {
   "cell_type": "code",
   "execution_count": 40,
   "id": "66e40198-d32c-4411-9131-75200d70f8e7",
   "metadata": {},
   "outputs": [
    {
     "data": {
      "text/html": [
       "<div>\n",
       "<style scoped>\n",
       "    .dataframe tbody tr th:only-of-type {\n",
       "        vertical-align: middle;\n",
       "    }\n",
       "\n",
       "    .dataframe tbody tr th {\n",
       "        vertical-align: top;\n",
       "    }\n",
       "\n",
       "    .dataframe thead th {\n",
       "        text-align: right;\n",
       "    }\n",
       "</style>\n",
       "<table border=\"1\" class=\"dataframe\">\n",
       "  <thead>\n",
       "    <tr style=\"text-align: right;\">\n",
       "      <th></th>\n",
       "      <th>count</th>\n",
       "      <th>mean</th>\n",
       "      <th>std</th>\n",
       "      <th>min</th>\n",
       "      <th>25%</th>\n",
       "      <th>50%</th>\n",
       "      <th>75%</th>\n",
       "      <th>max</th>\n",
       "    </tr>\n",
       "  </thead>\n",
       "  <tbody>\n",
       "    <tr>\n",
       "      <th>temp</th>\n",
       "      <td>48,194.0000</td>\n",
       "      <td>281.2600</td>\n",
       "      <td>12.7100</td>\n",
       "      <td>243.3900</td>\n",
       "      <td>272.1800</td>\n",
       "      <td>282.4600</td>\n",
       "      <td>291.8100</td>\n",
       "      <td>310.0700</td>\n",
       "    </tr>\n",
       "    <tr>\n",
       "      <th>rain_1h</th>\n",
       "      <td>48,194.0000</td>\n",
       "      <td>0.3300</td>\n",
       "      <td>44.7900</td>\n",
       "      <td>0.0000</td>\n",
       "      <td>0.0000</td>\n",
       "      <td>0.0000</td>\n",
       "      <td>0.0000</td>\n",
       "      <td>9,831.3000</td>\n",
       "    </tr>\n",
       "    <tr>\n",
       "      <th>snow_1h</th>\n",
       "      <td>48,194.0000</td>\n",
       "      <td>0.0000</td>\n",
       "      <td>0.0100</td>\n",
       "      <td>0.0000</td>\n",
       "      <td>0.0000</td>\n",
       "      <td>0.0000</td>\n",
       "      <td>0.0000</td>\n",
       "      <td>0.5100</td>\n",
       "    </tr>\n",
       "    <tr>\n",
       "      <th>clouds_all</th>\n",
       "      <td>48,194.0000</td>\n",
       "      <td>49.3700</td>\n",
       "      <td>39.0100</td>\n",
       "      <td>0.0000</td>\n",
       "      <td>1.0000</td>\n",
       "      <td>64.0000</td>\n",
       "      <td>90.0000</td>\n",
       "      <td>100.0000</td>\n",
       "    </tr>\n",
       "    <tr>\n",
       "      <th>traffic_volume</th>\n",
       "      <td>48,194.0000</td>\n",
       "      <td>3,260.2200</td>\n",
       "      <td>1,986.7600</td>\n",
       "      <td>0.0000</td>\n",
       "      <td>1,194.0000</td>\n",
       "      <td>3,380.5000</td>\n",
       "      <td>4,933.0000</td>\n",
       "      <td>7,280.0000</td>\n",
       "    </tr>\n",
       "  </tbody>\n",
       "</table>\n",
       "</div>"
      ],
      "text/plain": [
       "                                                  count  \\\n",
       "temp                                        48,194.0000   \n",
       "rain_1h                                     48,194.0000   \n",
       "snow_1h                                     48,194.0000   \n",
       "clouds_all                                  48,194.0000   \n",
       "traffic_volume                              48,194.0000   \n",
       "\n",
       "                                                   mean  \\\n",
       "temp                                           281.2600   \n",
       "rain_1h                                          0.3300   \n",
       "snow_1h                                          0.0000   \n",
       "clouds_all                                      49.3700   \n",
       "traffic_volume                               3,260.2200   \n",
       "\n",
       "                                                    std  \\\n",
       "temp                                            12.7100   \n",
       "rain_1h                                         44.7900   \n",
       "snow_1h                                          0.0100   \n",
       "clouds_all                                      39.0100   \n",
       "traffic_volume                               1,986.7600   \n",
       "\n",
       "                                                    min  \\\n",
       "temp                                           243.3900   \n",
       "rain_1h                                          0.0000   \n",
       "snow_1h                                          0.0000   \n",
       "clouds_all                                       0.0000   \n",
       "traffic_volume                                   0.0000   \n",
       "\n",
       "                                                    25%  \\\n",
       "temp                                           272.1800   \n",
       "rain_1h                                          0.0000   \n",
       "snow_1h                                          0.0000   \n",
       "clouds_all                                       1.0000   \n",
       "traffic_volume                               1,194.0000   \n",
       "\n",
       "                                                    50%  \\\n",
       "temp                                           282.4600   \n",
       "rain_1h                                          0.0000   \n",
       "snow_1h                                          0.0000   \n",
       "clouds_all                                      64.0000   \n",
       "traffic_volume                               3,380.5000   \n",
       "\n",
       "                                                    75%  \\\n",
       "temp                                           291.8100   \n",
       "rain_1h                                          0.0000   \n",
       "snow_1h                                          0.0000   \n",
       "clouds_all                                      90.0000   \n",
       "traffic_volume                               4,933.0000   \n",
       "\n",
       "                                                    max  \n",
       "temp                                           310.0700  \n",
       "rain_1h                                      9,831.3000  \n",
       "snow_1h                                          0.5100  \n",
       "clouds_all                                     100.0000  \n",
       "traffic_volume                               7,280.0000  "
      ]
     },
     "execution_count": 40,
     "metadata": {},
     "output_type": "execute_result"
    }
   ],
   "source": [
    "summary=data.describe().round(2)  # generate summary statistics, and round everything to 2 decimal degrees\n",
    "summary=summary.T #.T transposes the table (rows become columns and vice versa)\n",
    "summary"
   ]
  },
  {
   "cell_type": "code",
   "execution_count": null,
   "id": "cc205d76-e145-4b31-88f5-ae41a898ce18",
   "metadata": {},
   "outputs": [],
   "source": []
  },
  {
   "cell_type": "markdown",
   "id": "94e17cae-cd0c-4b78-9d5f-b20099451b05",
   "metadata": {},
   "source": [
    "holiday and weather_description : object"
   ]
  },
  {
   "cell_type": "code",
   "execution_count": 12,
   "id": "ccf16f98-39eb-4542-a913-951f9ddbaad4",
   "metadata": {},
   "outputs": [],
   "source": [
    "data_numeric = pd.get_dummies(data)"
   ]
  },
  {
   "cell_type": "code",
   "execution_count": 14,
   "id": "d83ff809-1d4d-4b37-8612-c373701bf7e3",
   "metadata": {},
   "outputs": [
    {
     "name": "stdout",
     "output_type": "stream",
     "text": [
      "<class 'pandas.core.frame.DataFrame'>\n",
      "RangeIndex: 48204 entries, 0 to 48203\n",
      "Data columns (total 28 columns):\n",
      " #   Column                             Non-Null Count  Dtype  \n",
      "---  ------                             --------------  -----  \n",
      " 0   temp                               48204 non-null  float64\n",
      " 1   rain_1h                            48204 non-null  float64\n",
      " 2   snow_1h                            48204 non-null  float64\n",
      " 3   clouds_all                         48204 non-null  int64  \n",
      " 4   traffic_volume                     48204 non-null  int64  \n",
      " 5   holiday_Christmas Day              48204 non-null  uint8  \n",
      " 6   holiday_Columbus Day               48204 non-null  uint8  \n",
      " 7   holiday_Independence Day           48204 non-null  uint8  \n",
      " 8   holiday_Labor Day                  48204 non-null  uint8  \n",
      " 9   holiday_Martin Luther King Jr Day  48204 non-null  uint8  \n",
      " 10  holiday_Memorial Day               48204 non-null  uint8  \n",
      " 11  holiday_New Years Day              48204 non-null  uint8  \n",
      " 12  holiday_None                       48204 non-null  uint8  \n",
      " 13  holiday_State Fair                 48204 non-null  uint8  \n",
      " 14  holiday_Thanksgiving Day           48204 non-null  uint8  \n",
      " 15  holiday_Veterans Day               48204 non-null  uint8  \n",
      " 16  holiday_Washingtons Birthday       48204 non-null  uint8  \n",
      " 17  weather_main_Clear                 48204 non-null  uint8  \n",
      " 18  weather_main_Clouds                48204 non-null  uint8  \n",
      " 19  weather_main_Drizzle               48204 non-null  uint8  \n",
      " 20  weather_main_Fog                   48204 non-null  uint8  \n",
      " 21  weather_main_Haze                  48204 non-null  uint8  \n",
      " 22  weather_main_Mist                  48204 non-null  uint8  \n",
      " 23  weather_main_Rain                  48204 non-null  uint8  \n",
      " 24  weather_main_Smoke                 48204 non-null  uint8  \n",
      " 25  weather_main_Snow                  48204 non-null  uint8  \n",
      " 26  weather_main_Squall                48204 non-null  uint8  \n",
      " 27  weather_main_Thunderstorm          48204 non-null  uint8  \n",
      "dtypes: float64(3), int64(2), uint8(23)\n",
      "memory usage: 2.9 MB\n"
     ]
    }
   ],
   "source": [
    "data_numeric.info()"
   ]
  },
  {
   "cell_type": "code",
   "execution_count": 17,
   "id": "1d2e1707-ce65-41d7-9254-8bea2197dc6a",
   "metadata": {},
   "outputs": [],
   "source": [
    "data_final = data_numeric.drop(['holiday_None', 'weather_main_Clear'],axis = 1)"
   ]
  },
  {
   "cell_type": "code",
   "execution_count": 18,
   "id": "fa584d7a-ad21-4603-bda2-88fe0766d9d9",
   "metadata": {},
   "outputs": [
    {
     "name": "stdout",
     "output_type": "stream",
     "text": [
      "<class 'pandas.core.frame.DataFrame'>\n",
      "RangeIndex: 48204 entries, 0 to 48203\n",
      "Data columns (total 26 columns):\n",
      " #   Column                             Non-Null Count  Dtype  \n",
      "---  ------                             --------------  -----  \n",
      " 0   temp                               48204 non-null  float64\n",
      " 1   rain_1h                            48204 non-null  float64\n",
      " 2   snow_1h                            48204 non-null  float64\n",
      " 3   clouds_all                         48204 non-null  int64  \n",
      " 4   traffic_volume                     48204 non-null  int64  \n",
      " 5   holiday_Christmas Day              48204 non-null  uint8  \n",
      " 6   holiday_Columbus Day               48204 non-null  uint8  \n",
      " 7   holiday_Independence Day           48204 non-null  uint8  \n",
      " 8   holiday_Labor Day                  48204 non-null  uint8  \n",
      " 9   holiday_Martin Luther King Jr Day  48204 non-null  uint8  \n",
      " 10  holiday_Memorial Day               48204 non-null  uint8  \n",
      " 11  holiday_New Years Day              48204 non-null  uint8  \n",
      " 12  holiday_State Fair                 48204 non-null  uint8  \n",
      " 13  holiday_Thanksgiving Day           48204 non-null  uint8  \n",
      " 14  holiday_Veterans Day               48204 non-null  uint8  \n",
      " 15  holiday_Washingtons Birthday       48204 non-null  uint8  \n",
      " 16  weather_main_Clouds                48204 non-null  uint8  \n",
      " 17  weather_main_Drizzle               48204 non-null  uint8  \n",
      " 18  weather_main_Fog                   48204 non-null  uint8  \n",
      " 19  weather_main_Haze                  48204 non-null  uint8  \n",
      " 20  weather_main_Mist                  48204 non-null  uint8  \n",
      " 21  weather_main_Rain                  48204 non-null  uint8  \n",
      " 22  weather_main_Smoke                 48204 non-null  uint8  \n",
      " 23  weather_main_Snow                  48204 non-null  uint8  \n",
      " 24  weather_main_Squall                48204 non-null  uint8  \n",
      " 25  weather_main_Thunderstorm          48204 non-null  uint8  \n",
      "dtypes: float64(3), int64(2), uint8(21)\n",
      "memory usage: 2.8 MB\n"
     ]
    }
   ],
   "source": [
    "data_final.info()"
   ]
  },
  {
   "cell_type": "code",
   "execution_count": null,
   "id": "37f03188-9715-428d-9937-79efb54ced62",
   "metadata": {},
   "outputs": [],
   "source": []
  },
  {
   "cell_type": "code",
   "execution_count": null,
   "id": "3b6a4b08-de19-47fe-a0d5-d9bce0fcf597",
   "metadata": {},
   "outputs": [],
   "source": []
  }
 ],
 "metadata": {
  "kernelspec": {
   "display_name": "Python 3 (ipykernel)",
   "language": "python",
   "name": "python3"
  },
  "language_info": {
   "codemirror_mode": {
    "name": "ipython",
    "version": 3
   },
   "file_extension": ".py",
   "mimetype": "text/x-python",
   "name": "python",
   "nbconvert_exporter": "python",
   "pygments_lexer": "ipython3",
   "version": "3.10.5"
  }
 },
 "nbformat": 4,
 "nbformat_minor": 5
}
